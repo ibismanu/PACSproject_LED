{
 "cells": [
  {
   "cell_type": "code",
   "execution_count": 1,
   "metadata": {},
   "outputs": [
    {
     "name": "stdout",
     "output_type": "stream",
     "text": [
      "data/samples/sample_5.npy\n",
      "data/samples/sample_6.npy\n"
     ]
    }
   ],
   "source": [
    "import os\n",
    "import numpy as np\n",
    "from scripts.datagen.create_dataset import create_dataset\n",
    "from scripts.utils.params import SolverParams, MSParams\n",
    "\n",
    "s_params = SolverParams(500, 0.5, [0.0, 0.0], theta=0.5, tol=1e-2)\n",
    "ms_params = MSParams(\n",
    "    \"ODE\", s_params, 8, 0.15, 1e-2, 0.125, 0.1, (20, 20), \"thetamethod\"\n",
    ")\n",
    "\n",
    "create_dataset(\"test1\", 8, 4, ms_params, 6, generate=False, remove_samples=False)"
   ]
  },
  {
   "cell_type": "code",
   "execution_count": 4,
   "metadata": {},
   "outputs": [
    {
     "data": {
      "text/plain": [
       "(2, 1001, 20, 20, 2)"
      ]
     },
     "execution_count": 4,
     "metadata": {},
     "output_type": "execute_result"
    }
   ],
   "source": [
    "# a = np.load('data/dataset/test1/test1_0.npz')['data']\n",
    "# print(a.shape)\n",
    "a = np.load('data/dataset/test1/test1_1.npz')['data']\n",
    "a.shape"
   ]
  },
  {
   "cell_type": "code",
   "execution_count": 3,
   "metadata": {},
   "outputs": [
    {
     "data": {
      "text/plain": [
       "2"
      ]
     },
     "execution_count": 3,
     "metadata": {},
     "output_type": "execute_result"
    }
   ],
   "source": [
    "8%6"
   ]
  }
 ],
 "metadata": {
  "kernelspec": {
   "display_name": "pacs",
   "language": "python",
   "name": "python3"
  },
  "language_info": {
   "codemirror_mode": {
    "name": "ipython",
    "version": 3
   },
   "file_extension": ".py",
   "mimetype": "text/x-python",
   "name": "python",
   "nbconvert_exporter": "python",
   "pygments_lexer": "ipython3",
   "version": "3.10.13"
  }
 },
 "nbformat": 4,
 "nbformat_minor": 2
}
