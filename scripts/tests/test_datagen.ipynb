{
 "cells": [
  {
   "cell_type": "code",
   "execution_count": null,
   "metadata": {},
   "outputs": [],
   "source": [
    "import numpy as np\n",
    "import matplotlib.pyplot as plt\n",
    "\n",
    "from scripts.datagen.mitchellschaeffer import MitchellSchaeffer\n",
    "from scripts.utils.utils import SolverParams"
   ]
  },
  {
   "cell_type": "code",
   "execution_count": null,
   "metadata": {},
   "outputs": [],
   "source": [
    "params = SolverParams(final_time=500,time_step=0.5,u0=[0.,0.],theta=0.5,tol=0.01)"
   ]
  },
  {
   "cell_type": "code",
   "execution_count": null,
   "metadata": {},
   "outputs": [],
   "source": [
    "MS = MitchellSchaeffer(\n",
    "    eqtype='ODE',\n",
    "    params=params,\n",
    "    k=8,\n",
    "    alpha=0.15,\n",
    "    epsilon=0.01,\n",
    "    I=0.125,\n",
    "    gamma=0.1,\n",
    "    grid_size=(20,20),\n",
    "    solver_name='thetamethod'\n",
    ")\n",
    "MS.generate_dataset(num_processes=4, num_samples=8)"
   ]
  },
  {
   "cell_type": "code",
   "execution_count": null,
   "metadata": {},
   "outputs": [],
   "source": [
    "from scripts.datagen.create_dataset import create_dataset\n",
    "from scripts.utils.params import SolverParams, MSParams\n",
    "\n",
    "s_params = SolverParams(500, 0.5, [0.0, 0.0], theta=0.5, tol=1e-2)\n",
    "ms_params = MSParams(\n",
    "    \"ODE\", s_params, 8, 0.15, 1e-2, 0.125, 0.1, (20, 20), \"thetamethod\"\n",
    ")\n",
    "\n",
    "create_dataset(\"test1\", 8, 4, ms_params, 6, generate=False, remove_samples=False)"
   ]
  }
 ],
 "metadata": {
  "kernelspec": {
   "display_name": "pacs",
   "language": "python",
   "name": "python3"
  },
  "language_info": {
   "codemirror_mode": {
    "name": "ipython",
    "version": 3
   },
   "file_extension": ".py",
   "mimetype": "text/x-python",
   "name": "python",
   "nbconvert_exporter": "python",
   "pygments_lexer": "ipython3",
   "version": "3.10.13"
  }
 },
 "nbformat": 4,
 "nbformat_minor": 2
}
