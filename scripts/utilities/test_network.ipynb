{
 "cells": [
  {
   "cell_type": "code",
   "execution_count": 2,
   "metadata": {},
   "outputs": [],
   "source": [
    "import sys\n",
    "sys.path.append('..')\n",
    "\n",
    "from NeuralNetwork.led_Manu import LED"
   ]
  },
  {
   "cell_type": "code",
   "execution_count": 3,
   "metadata": {},
   "outputs": [
    {
     "name": "stdout",
     "output_type": "stream",
     "text": [
      "Model: \"autoencoder\"\n",
      "_________________________________________________________________\n",
      " Layer (type)                Output Shape              Param #   \n",
      "=================================================================\n",
      " input_3 (InputLayer)        [(None, 100, 10, 10, 2)   0         \n",
      "                             ]                                   \n",
      "                                                                 \n",
      " sequential (Sequential)     (None, 10)                310546    \n",
      "|¯¯¯¯¯¯¯¯¯¯¯¯¯¯¯¯¯¯¯¯¯¯¯¯¯¯¯¯¯¯¯¯¯¯¯¯¯¯¯¯¯¯¯¯¯¯¯¯¯¯¯¯¯¯¯¯¯¯¯¯¯¯¯|\n",
      "| reshape (Reshape)          (None, 100, 100, 2)       0        |\n",
      "|                                                               |\n",
      "| conv2d (Conv2D)            (None, 100, 100, 8)       152      |\n",
      "|                                                               |\n",
      "| max_pooling2d (MaxPooling  (None, 50, 50, 8)         0        |\n",
      "| 2D)                                                           |\n",
      "|                                                               |\n",
      "| conv2d_1 (Conv2D)          (None, 50, 50, 16)        1168     |\n",
      "|                                                               |\n",
      "| max_pooling2d_1 (MaxPooli  (None, 25, 25, 16)        0        |\n",
      "| ng2D)                                                         |\n",
      "|                                                               |\n",
      "| conv2d_2 (Conv2D)          (None, 25, 25, 32)        4640     |\n",
      "|                                                               |\n",
      "| max_pooling2d_2 (MaxPooli  (None, 12, 12, 32)        0        |\n",
      "| ng2D)                                                         |\n",
      "|                                                               |\n",
      "| flatten (Flatten)          (None, 4608)              0        |\n",
      "|                                                               |\n",
      "| dense (Dense)              (None, 64)                294976   |\n",
      "|                                                               |\n",
      "| dropout (Dropout)          (None, 64)                0        |\n",
      "|                                                               |\n",
      "| dense_1 (Dense)            (None, 128)               8320     |\n",
      "|                                                               |\n",
      "| dropout_1 (Dropout)        (None, 128)               0        |\n",
      "|                                                               |\n",
      "| dense_2 (Dense)            (None, 10)                1290     |\n",
      "¯¯¯¯¯¯¯¯¯¯¯¯¯¯¯¯¯¯¯¯¯¯¯¯¯¯¯¯¯¯¯¯¯¯¯¯¯¯¯¯¯¯¯¯¯¯¯¯¯¯¯¯¯¯¯¯¯¯¯¯¯¯¯¯¯\n",
      " sequential_1 (Sequential)   (None, 100, 10, 2)        2104842   \n",
      "|¯¯¯¯¯¯¯¯¯¯¯¯¯¯¯¯¯¯¯¯¯¯¯¯¯¯¯¯¯¯¯¯¯¯¯¯¯¯¯¯¯¯¯¯¯¯¯¯¯¯¯¯¯¯¯¯¯¯¯¯¯¯¯|\n",
      "| dense_3 (Dense)            (None, 128)               1408     |\n",
      "|                                                               |\n",
      "| dropout_2 (Dropout)        (None, 128)               0        |\n",
      "|                                                               |\n",
      "| dense_4 (Dense)            (None, 64)                8256     |\n",
      "|                                                               |\n",
      "| dropout_3 (Dropout)        (None, 64)                0        |\n",
      "|                                                               |\n",
      "| dense_5 (Dense)            (None, 32000)             2080000  |\n",
      "|                                                               |\n",
      "| reshape_1 (Reshape)        (None, 100, 10, 32)       0        |\n",
      "|                                                               |\n",
      "| conv2d_transpose (Conv2DT  (None, 100, 10, 32)       9248     |\n",
      "| ranspose)                                                     |\n",
      "|                                                               |\n",
      "| conv2d_transpose_1 (Conv2  (None, 100, 10, 16)       4624     |\n",
      "| DTranspose)                                                   |\n",
      "|                                                               |\n",
      "| conv2d_transpose_2 (Conv2  (None, 100, 10, 8)        1160     |\n",
      "| DTranspose)                                                   |\n",
      "|                                                               |\n",
      "| conv2d_transpose_3 (Conv2  (None, 100, 10, 2)        146      |\n",
      "| DTranspose)                                                   |\n",
      "¯¯¯¯¯¯¯¯¯¯¯¯¯¯¯¯¯¯¯¯¯¯¯¯¯¯¯¯¯¯¯¯¯¯¯¯¯¯¯¯¯¯¯¯¯¯¯¯¯¯¯¯¯¯¯¯¯¯¯¯¯¯¯¯¯\n",
      "=================================================================\n",
      "Total params: 2415388 (9.21 MB)\n",
      "Trainable params: 2415388 (9.21 MB)\n",
      "Non-trainable params: 0 (0.00 Byte)\n",
      "_________________________________________________________________\n"
     ]
    }
   ],
   "source": [
    "NN = LED()\n",
    "\n",
    "input_shape = (100,10,10,2)\n",
    "latent_dim = 10\n",
    "\n",
    "conv = [(8,3),(16,3),(32,3)]\n",
    "dense = (64,128)\n",
    "\n",
    "\n",
    "NN.build_autoencoder(latent_dim, input_shape, dense, conv)"
   ]
  },
  {
   "cell_type": "code",
   "execution_count": null,
   "metadata": {},
   "outputs": [],
   "source": []
  }
 ],
 "metadata": {
  "kernelspec": {
   "display_name": "Python 3 (ipykernel)",
   "language": "python",
   "name": "python3"
  },
  "language_info": {
   "codemirror_mode": {
    "name": "ipython",
    "version": 3
   },
   "file_extension": ".py",
   "mimetype": "text/x-python",
   "name": "python",
   "nbconvert_exporter": "python",
   "pygments_lexer": "ipython3",
   "version": "3.10.9"
  }
 },
 "nbformat": 4,
 "nbformat_minor": 2
}
