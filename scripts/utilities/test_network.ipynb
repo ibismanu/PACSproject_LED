{
 "cells": [
  {
   "cell_type": "code",
   "execution_count": 1,
   "metadata": {},
   "outputs": [
    {
     "name": "stdout",
     "output_type": "stream",
     "text": [
      "[[[  4  14  24]]\n",
      "\n",
      " [[  5  15  25]]\n",
      "\n",
      " [[ -4 -14 -24]]\n",
      "\n",
      " [[ -5 -15 -25]]]\n"
     ]
    }
   ],
   "source": [
    "import sys\n",
    "import numpy as np\n",
    "sys.path.append('..')\n",
    "\n",
    "from NeuralNetwork.led import LED\n",
    "from particle.generate_particle import ODEParams\n",
    "from particle.thetamethod import ThetaMethod\n",
    "from datagen.mitchellschaeffer import MitchellSchaeffer"
   ]
  },
  {
   "cell_type": "code",
   "execution_count": null,
   "metadata": {},
   "outputs": [],
   "source": [
    "T = 500\n",
    "dt = 0.1\n",
    "u0 = [0,0]\n",
    "def f(v, t): return np.array([-v[1], v[0]])\n",
    "params = ODEParams(T,dt,u0,f)\n",
    "\n",
    "params.theta = 0.5\n",
    "params.tol = 1e-2\n",
    "\n",
    "TM = ThetaMethod(eqtype='ODE', params=params)\n",
    "\n",
    "solver = MitchellSchaeffer(TM, 2, 0.1, 0.2, 2, 1, (5,5))\n",
    "solver.generate_dataset(10,'testdata')"
   ]
  },
  {
   "cell_type": "code",
   "execution_count": null,
   "metadata": {},
   "outputs": [],
   "source": [
    "solver.save_dataset('testdata')"
   ]
  },
  {
   "cell_type": "code",
   "execution_count": null,
   "metadata": {},
   "outputs": [],
   "source": [
    "X = np.load('../../data/dataset/testdata.npy')\n",
    "np.shape(X)"
   ]
  },
  {
   "cell_type": "code",
   "execution_count": null,
   "metadata": {},
   "outputs": [],
   "source": [
    "NN = LED(latent_dim=4, data_dir='../../data/dataset',saving_dir='../NeuralNetwork/')\n",
    "\n",
    "input_shape = (5,5,2)\n",
    "latent_dim = 3\n",
    "\n",
    "conv = [(4,3)]\n",
    "dense = (64,128)\n",
    "\n",
    "\n",
    "NN.build_autoencoder(input_shape=input_shape, conv=conv, dense=dense)\n",
    "\n",
    "NN.train_autoencoder('testdata.npy')"
   ]
  },
  {
   "cell_type": "code",
   "execution_count": null,
   "metadata": {},
   "outputs": [],
   "source": [
    "NN.build_RNN(input_shape=(5001,4),lstm=[(16,True),(16,True)], dense=(32,64))"
   ]
  },
  {
   "cell_type": "code",
   "execution_count": null,
   "metadata": {},
   "outputs": [],
   "source": [
    "NN.train_RNN('testdata.npy')"
   ]
  }
 ],
 "metadata": {
  "kernelspec": {
   "display_name": "Python 3 (ipykernel)",
   "language": "python",
   "name": "python3"
  },
  "language_info": {
   "codemirror_mode": {
    "name": "ipython",
    "version": 3
   },
   "file_extension": ".py",
   "mimetype": "text/x-python",
   "name": "python",
   "nbconvert_exporter": "python",
   "pygments_lexer": "ipython3",
   "version": "3.9.13"
  }
 },
 "nbformat": 4,
 "nbformat_minor": 2
}
