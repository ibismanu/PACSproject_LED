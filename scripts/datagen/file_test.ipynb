{
 "cells": [
  {
   "cell_type": "code",
   "execution_count": 4,
   "metadata": {},
   "outputs": [],
   "source": [
    "import numpy as np\n",
    "import sys\n",
    "\n",
    "sys.path.append('..')\n",
    "from utilities import utils\n",
    "from solver.thetamethod import ThetaMethod"
   ]
  },
  {
   "cell_type": "code",
   "execution_count": 5,
   "metadata": {},
   "outputs": [],
   "source": [
    "file = open('ODEfile.txt','r')\n",
    "T = 0\n",
    "dt = 0\n",
    "eqtype = 'none'\n",
    "u0 = np.zeros((1,3))\n",
    "\n",
    "lines = file.readlines()\n",
    "for l in lines:\n",
    "    index = l.find('=')\n",
    "    symbol = l[0:index]\n",
    "    if symbol == 'T':\n",
    "        T =  float(l[index+1:])\n",
    "    elif symbol == 'dt':\n",
    "        dt = float(l[index+1:])\n",
    "    elif symbol == 'eqtype':\n",
    "        eqtype = l[index+1:]\n",
    "    elif symbol == 'u0':\n",
    "        index_1 = l.find('[')\n",
    "        index_2 = l.find(',')\n",
    "        u0[:,0] = float(l[index_1+1:index_2])\n",
    "        index_1 = l.find(',',index_2+1)\n",
    "        u0[:,1] = float(l[index_2+1:index_1])\n",
    "        index_2 = l.find(']')\n",
    "        u0[:,2] = float(l[index_1+1:index_2])\n",
    "    elif symbol == 'f':\n",
    "        f = eval(l[index+1:])\n",
    "\n",
    "# print(T,dt,eqtype,u0)\n"
   ]
  },
  {
   "cell_type": "code",
   "execution_count": 6,
   "metadata": {},
   "outputs": [
    {
     "ename": "NameError",
     "evalue": "name 'f' is not defined",
     "output_type": "error",
     "traceback": [
      "\u001b[1;31m---------------------------------------------------------------------------\u001b[0m",
      "\u001b[1;31mNameError\u001b[0m                                 Traceback (most recent call last)",
      "\u001b[1;32mc:\\Users\\pc\\PACSproject_AdaLED\\scripts\\datagen\\file_test.ipynb Cell 3\u001b[0m line \u001b[0;36m3\n\u001b[0;32m      <a href='vscode-notebook-cell:/c%3A/Users/pc/PACSproject_AdaLED/scripts/datagen/file_test.ipynb#W2sZmlsZQ%3D%3D?line=0'>1</a>\u001b[0m theta \u001b[39m=\u001b[39m \u001b[39m0.5\u001b[39m\n\u001b[1;32m----> <a href='vscode-notebook-cell:/c%3A/Users/pc/PACSproject_AdaLED/scripts/datagen/file_test.ipynb#W2sZmlsZQ%3D%3D?line=2'>3</a>\u001b[0m TM \u001b[39m=\u001b[39m ThetaMethod(T\u001b[39m=\u001b[39mT, dt\u001b[39m=\u001b[39mdt, u0\u001b[39m=\u001b[39mu0, f\u001b[39m=\u001b[39mf, theta\u001b[39m=\u001b[39mtheta, eqtype\u001b[39m=\u001b[39m\u001b[39m'\u001b[39m\u001b[39mODE\u001b[39m\u001b[39m'\u001b[39m)\n",
      "\u001b[1;31mNameError\u001b[0m: name 'f' is not defined"
     ]
    }
   ],
   "source": [
    "theta = 0.5\n",
    "\n",
    "TM = ThetaMethod(T=T, dt=dt, u0=u0, f=f, theta=theta, eqtype='ODE')"
   ]
  }
 ],
 "metadata": {
  "kernelspec": {
   "display_name": "base",
   "language": "python",
   "name": "python3"
  },
  "language_info": {
   "codemirror_mode": {
    "name": "ipython",
    "version": 3
   },
   "file_extension": ".py",
   "mimetype": "text/x-python",
   "name": "python",
   "nbconvert_exporter": "python",
   "pygments_lexer": "ipython3",
   "version": "3.10.9"
  },
  "orig_nbformat": 4
 },
 "nbformat": 4,
 "nbformat_minor": 2
}
