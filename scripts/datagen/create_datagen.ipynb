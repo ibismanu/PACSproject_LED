{
 "cells": [
  {
   "cell_type": "code",
   "execution_count": 1,
   "metadata": {},
   "outputs": [],
   "source": [
    "# !pip install tqdm"
   ]
  },
  {
   "cell_type": "code",
   "execution_count": 2,
   "metadata": {},
   "outputs": [],
   "source": [
    "import sys\n",
    "sys.path.append('../datagen/')\n",
    "from mitchellschaeffer import MitchellSchaeffer\n",
    "import numpy as np\n",
    "import os\n",
    "\n",
    "sys.path.append('../particle/')\n",
    "from generate_particle import ODEParams\n",
    "from thetamethod import ThetaMethod"
   ]
  },
  {
   "cell_type": "code",
   "execution_count": 3,
   "metadata": {},
   "outputs": [
    {
     "ename": "PicklingError",
     "evalue": "Can't pickle <function ODEParams.<lambda> at 0x000002207BE8CCA0>: attribute lookup ODEParams.<lambda> on generate_particle failed",
     "output_type": "error",
     "traceback": [
      "\u001b[1;31m---------------------------------------------------------------------------\u001b[0m",
      "\u001b[1;31mPicklingError\u001b[0m                             Traceback (most recent call last)",
      "\u001b[1;32mc:\\Users\\pc\\PACSproject_AdaLED\\scripts\\datagen\\create_datagen.ipynb Cell 3\u001b[0m line \u001b[0;36m9\n\u001b[0;32m      <a href='vscode-notebook-cell:/c%3A/Users/pc/PACSproject_AdaLED/scripts/datagen/create_datagen.ipynb#W1sZmlsZQ%3D%3D?line=5'>6</a>\u001b[0m solver \u001b[39m=\u001b[39m ThetaMethod(eqtype\u001b[39m=\u001b[39m\u001b[39m'\u001b[39m\u001b[39mODE\u001b[39m\u001b[39m'\u001b[39m,params\u001b[39m=\u001b[39mparameters) \n\u001b[0;32m      <a href='vscode-notebook-cell:/c%3A/Users/pc/PACSproject_AdaLED/scripts/datagen/create_datagen.ipynb#W1sZmlsZQ%3D%3D?line=7'>8</a>\u001b[0m MS \u001b[39m=\u001b[39m MitchellSchaeffer(solver\u001b[39m=\u001b[39msolver, k\u001b[39m=\u001b[39m\u001b[39m2\u001b[39m,alpha\u001b[39m=\u001b[39m\u001b[39m.1\u001b[39m,epsilon\u001b[39m=\u001b[39m\u001b[39m.2\u001b[39m,I\u001b[39m=\u001b[39m\u001b[39m2\u001b[39m,gamma\u001b[39m=\u001b[39m\u001b[39m1\u001b[39m,grid_size\u001b[39m=\u001b[39m(\u001b[39m10\u001b[39m,\u001b[39m10\u001b[39m))\n\u001b[1;32m----> <a href='vscode-notebook-cell:/c%3A/Users/pc/PACSproject_AdaLED/scripts/datagen/create_datagen.ipynb#W1sZmlsZQ%3D%3D?line=8'>9</a>\u001b[0m MS\u001b[39m.\u001b[39;49mgenerate_dataset_parallel(num_samples, num_processes)\n",
      "File \u001b[1;32mc:\\Users\\pc\\PACSproject_AdaLED\\scripts\\datagen\\mitchellschaeffer.py:109\u001b[0m, in \u001b[0;36mMitchellSchaeffer.generate_dataset_parallel\u001b[1;34m(self, num_samples, num_processes)\u001b[0m\n\u001b[0;32m    105\u001b[0m \u001b[39mdef\u001b[39;00m \u001b[39mgenerate_dataset_parallel\u001b[39m(\u001b[39mself\u001b[39m, num_samples, num_processes):\n\u001b[0;32m    106\u001b[0m     \u001b[39m# Create a pool of processes\u001b[39;00m\n\u001b[0;32m    107\u001b[0m     \u001b[39mwith\u001b[39;00m Pool(processes\u001b[39m=\u001b[39mnum_processes) \u001b[39mas\u001b[39;00m pool:\n\u001b[0;32m    108\u001b[0m         \u001b[39m# Generate samples in parallel\u001b[39;00m\n\u001b[1;32m--> 109\u001b[0m         pool\u001b[39m.\u001b[39;49mmap(\u001b[39mself\u001b[39;49m\u001b[39m.\u001b[39;49mgenerate_sample, \u001b[39mrange\u001b[39;49m(num_samples))\n",
      "File \u001b[1;32mc:\\Users\\pc\\anaconda3\\lib\\multiprocessing\\pool.py:367\u001b[0m, in \u001b[0;36mPool.map\u001b[1;34m(self, func, iterable, chunksize)\u001b[0m\n\u001b[0;32m    362\u001b[0m \u001b[39mdef\u001b[39;00m \u001b[39mmap\u001b[39m(\u001b[39mself\u001b[39m, func, iterable, chunksize\u001b[39m=\u001b[39m\u001b[39mNone\u001b[39;00m):\n\u001b[0;32m    363\u001b[0m     \u001b[39m'''\u001b[39;00m\n\u001b[0;32m    364\u001b[0m \u001b[39m    Apply `func` to each element in `iterable`, collecting the results\u001b[39;00m\n\u001b[0;32m    365\u001b[0m \u001b[39m    in a list that is returned.\u001b[39;00m\n\u001b[0;32m    366\u001b[0m \u001b[39m    '''\u001b[39;00m\n\u001b[1;32m--> 367\u001b[0m     \u001b[39mreturn\u001b[39;00m \u001b[39mself\u001b[39;49m\u001b[39m.\u001b[39;49m_map_async(func, iterable, mapstar, chunksize)\u001b[39m.\u001b[39;49mget()\n",
      "File \u001b[1;32mc:\\Users\\pc\\anaconda3\\lib\\multiprocessing\\pool.py:774\u001b[0m, in \u001b[0;36mApplyResult.get\u001b[1;34m(self, timeout)\u001b[0m\n\u001b[0;32m    772\u001b[0m     \u001b[39mreturn\u001b[39;00m \u001b[39mself\u001b[39m\u001b[39m.\u001b[39m_value\n\u001b[0;32m    773\u001b[0m \u001b[39melse\u001b[39;00m:\n\u001b[1;32m--> 774\u001b[0m     \u001b[39mraise\u001b[39;00m \u001b[39mself\u001b[39m\u001b[39m.\u001b[39m_value\n",
      "File \u001b[1;32mc:\\Users\\pc\\anaconda3\\lib\\multiprocessing\\pool.py:540\u001b[0m, in \u001b[0;36mPool._handle_tasks\u001b[1;34m(taskqueue, put, outqueue, pool, cache)\u001b[0m\n\u001b[0;32m    538\u001b[0m     \u001b[39mbreak\u001b[39;00m\n\u001b[0;32m    539\u001b[0m \u001b[39mtry\u001b[39;00m:\n\u001b[1;32m--> 540\u001b[0m     put(task)\n\u001b[0;32m    541\u001b[0m \u001b[39mexcept\u001b[39;00m \u001b[39mException\u001b[39;00m \u001b[39mas\u001b[39;00m e:\n\u001b[0;32m    542\u001b[0m     job, idx \u001b[39m=\u001b[39m task[:\u001b[39m2\u001b[39m]\n",
      "File \u001b[1;32mc:\\Users\\pc\\anaconda3\\lib\\multiprocessing\\connection.py:206\u001b[0m, in \u001b[0;36m_ConnectionBase.send\u001b[1;34m(self, obj)\u001b[0m\n\u001b[0;32m    204\u001b[0m \u001b[39mself\u001b[39m\u001b[39m.\u001b[39m_check_closed()\n\u001b[0;32m    205\u001b[0m \u001b[39mself\u001b[39m\u001b[39m.\u001b[39m_check_writable()\n\u001b[1;32m--> 206\u001b[0m \u001b[39mself\u001b[39m\u001b[39m.\u001b[39m_send_bytes(_ForkingPickler\u001b[39m.\u001b[39;49mdumps(obj))\n",
      "File \u001b[1;32mc:\\Users\\pc\\anaconda3\\lib\\multiprocessing\\reduction.py:51\u001b[0m, in \u001b[0;36mForkingPickler.dumps\u001b[1;34m(cls, obj, protocol)\u001b[0m\n\u001b[0;32m     48\u001b[0m \u001b[39m@classmethod\u001b[39m\n\u001b[0;32m     49\u001b[0m \u001b[39mdef\u001b[39;00m \u001b[39mdumps\u001b[39m(\u001b[39mcls\u001b[39m, obj, protocol\u001b[39m=\u001b[39m\u001b[39mNone\u001b[39;00m):\n\u001b[0;32m     50\u001b[0m     buf \u001b[39m=\u001b[39m io\u001b[39m.\u001b[39mBytesIO()\n\u001b[1;32m---> 51\u001b[0m     \u001b[39mcls\u001b[39;49m(buf, protocol)\u001b[39m.\u001b[39;49mdump(obj)\n\u001b[0;32m     52\u001b[0m     \u001b[39mreturn\u001b[39;00m buf\u001b[39m.\u001b[39mgetbuffer()\n",
      "\u001b[1;31mPicklingError\u001b[0m: Can't pickle <function ODEParams.<lambda> at 0x000002207BE8CCA0>: attribute lookup ODEParams.<lambda> on generate_particle failed"
     ]
    }
   ],
   "source": [
    "num_samples = 10\n",
    "num_processes = 1  # Adjust the number of processes as needed\n",
    "\n",
    "parameters = ODEParams(T=500, dt=0.1, u0=[0.,0.],theta=0.5, tol=1e-2)\n",
    "\n",
    "solver = ThetaMethod(eqtype='ODE',params=parameters) \n",
    "\n",
    "MS = MitchellSchaeffer(solver=solver, k=2,alpha=.1,epsilon=.2,I=2,gamma=1,grid_size=(10,10))\n",
    "MS.generate_dataset_parallel(num_samples, num_processes)"
   ]
  },
  {
   "cell_type": "code",
   "execution_count": null,
   "metadata": {},
   "outputs": [],
   "source": [
    "# Merge the generated samples into a single file\n",
    "merged_data = []\n",
    "\n",
    "for sample_id in range(num_samples):\n",
    "    filename = f'sample_{sample_id}.npy'\n",
    "    sample_data = np.load(filename)\n",
    "    merged_data.append(sample_data)\n",
    "\n",
    "merged_data = np.array(merged_data)\n",
    "\n",
    "# Save the merged data to a single file\n",
    "np.save('merged_dataset.npy', merged_data)\n",
    "\n",
    "# Optionally, remove the individual sample files\n",
    "for sample_id in range(num_samples):\n",
    "    filename = f'sample_{sample_id}.npy'\n",
    "    os.remove(filename)"
   ]
  }
 ],
 "metadata": {
  "kernelspec": {
   "display_name": "base",
   "language": "python",
   "name": "python3"
  },
  "language_info": {
   "codemirror_mode": {
    "name": "ipython",
    "version": 3
   },
   "file_extension": ".py",
   "mimetype": "text/x-python",
   "name": "python",
   "nbconvert_exporter": "python",
   "pygments_lexer": "ipython3",
   "version": "3.10.9"
  }
 },
 "nbformat": 4,
 "nbformat_minor": 2
}
