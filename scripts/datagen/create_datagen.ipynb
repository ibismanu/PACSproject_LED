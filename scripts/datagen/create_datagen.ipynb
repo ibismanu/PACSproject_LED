{
 "cells": [
  {
   "cell_type": "code",
   "execution_count": 1,
   "metadata": {},
   "outputs": [
    {
     "name": "stderr",
     "output_type": "stream",
     "text": [
      "/home/daan/.anaconda3/envs/pacs/lib/python3.9/site-packages/tqdm/auto.py:21: TqdmWarning: IProgress not found. Please update jupyter and ipywidgets. See https://ipywidgets.readthedocs.io/en/stable/user_install.html\n",
      "  from .autonotebook import tqdm as notebook_tqdm\n"
     ]
    }
   ],
   "source": [
    "import sys\n",
    "sys.path.append('../datagen/')\n",
    "from mitchellschaeffer_parallel import MitchellSchaeffer\n",
    "import numpy as np\n",
    "import os\n",
    "\n",
    "sys.path.append('../particle/')\n",
    "from generate_particle_parallel import ODEParams"
   ]
  },
  {
   "cell_type": "code",
   "execution_count": 2,
   "metadata": {},
   "outputs": [],
   "source": [
    "num_samples = 4\n",
    "num_processes = 4\n",
    "grid_size = (20,20)"
   ]
  },
  {
   "cell_type": "code",
   "execution_count": 3,
   "metadata": {},
   "outputs": [
    {
     "name": "stdout",
     "output_type": "stream",
     "text": [
      "Inside proc 1\n",
      "Program finished in 82.54995398099891 seconds\n"
     ]
    }
   ],
   "source": [
    "parameters = ODEParams(T=500, dt=0.5, u0=[0.0, 0.0], theta=0.5, tol=1e-2)\n",
    "\n",
    "MS = MitchellSchaeffer(\n",
    "    eqtype=\"ODE\",\n",
    "    params=parameters,\n",
    "    k=8,\n",
    "    alpha=0.15,\n",
    "    epsilon=0.01,\n",
    "    I=0.125,\n",
    "    gamma=0.1,\n",
    "    grid_size=grid_size,\n",
    ")\n",
    "MS.generate_dataset_parallel(num_samples, num_processes, plot=False)"
   ]
  },
  {
   "cell_type": "code",
   "execution_count": 6,
   "metadata": {},
   "outputs": [],
   "source": [
    "# Merge the generated samples into a single file\n",
    "merged_data = []\n",
    "\n",
    "for sample_id in range(num_samples):\n",
    "    filename = f'sample_{sample_id}.npz'\n",
    "    sample_data = np.load(filename)\n",
    "    merged_data.append(sample_data)\n",
    "\n",
    "merged_data = np.array(merged_data)\n",
    "\n",
    "# Save the merged data to a single file\n",
    "np.save('../../dataset/merged_dataset.npy', merged_data)\n",
    "\n",
    "# Optionally, remove the individual sample files\n",
    "for sample_id in range(num_samples):\n",
    "    filename = f'sample_{sample_id}.npz'\n",
    "    os.remove(filename)"
   ]
  },
  {
   "cell_type": "code",
   "execution_count": null,
   "metadata": {},
   "outputs": [],
   "source": [
    "dataset = np.load('../../dataset/merged_dataset.npy')\n",
    "# print(np.shape(dataset[0]))\n",
    "# import matplotlib.pyplot as plt\n",
    "# for i in range(100):\n",
    "\n",
    "#     plt.imshow(dataset[0,10*i,:,:,0])\n",
    "#     plt.colorbar()\n",
    "#     plt.show()"
   ]
  },
  {
   "cell_type": "code",
   "execution_count": null,
   "metadata": {},
   "outputs": [
    {
     "data": {
      "image/png": "[encoded data removed]",
      "text/plain": [
       "<Figure size 640x480 with 1 Axes>"
      ]
     },
     "metadata": {},
     "output_type": "display_data"
    }
   ],
   "source": [
    "import matplotlib.pyplot as plt\n",
    "\n",
    "# plot the stored dataset to see if it makes sense\n",
    "\n",
    "for i in range(1): # grid_size[0]\n",
    "    for j in range(1): # grid_size[1]\n",
    "        plt.plot(range(MS.num_it+1),dataset[0][:,i,j,0])\n",
    "        plt.show()"
   ]
  }
 ],
 "metadata": {
  "kernelspec": {
   "display_name": "base",
   "language": "python",
   "name": "python3"
  },
  "language_info": {
   "codemirror_mode": {
    "name": "ipython",
    "version": 3
   },
   "file_extension": ".py",
   "mimetype": "text/x-python",
   "name": "python",
   "nbconvert_exporter": "python",
   "pygments_lexer": "ipython3",
   "version": "3.9.18"
  }
 },
 "nbformat": 4,
 "nbformat_minor": 2
}
