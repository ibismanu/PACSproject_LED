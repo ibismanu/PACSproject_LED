{
 "cells": [
  {
   "cell_type": "code",
   "execution_count": null,
   "metadata": {},
   "outputs": [],
   "source": [
    "import sys\n",
    "sys.path.append('../datagen/')\n",
    "from mitchellschaeffer import MitchellSchaeffer\n",
    "\n",
    "sys.path.append('../particle/')\n",
    "from generate_particle import ODEParams\n",
    "from thetamethod import ThetaMethod"
   ]
  },
  {
   "cell_type": "code",
   "execution_count": null,
   "metadata": {},
   "outputs": [
    {
     "ename": "KeyboardInterrupt",
     "evalue": "",
     "output_type": "error",
     "traceback": [
      "\u001b[1;31m---------------------------------------------------------------------------\u001b[0m",
      "\u001b[1;31mKeyboardInterrupt\u001b[0m                         Traceback (most recent call last)",
      "\u001b[1;32mc:\\Users\\pc\\PACSproject_AdaLED\\scripts\\datagen\\create_datagen.ipynb Cell 2\u001b[0m line \u001b[0;36m6\n\u001b[0;32m      <a href='vscode-notebook-cell:/c%3A/Users/pc/PACSproject_AdaLED/scripts/datagen/create_datagen.ipynb#W1sZmlsZQ%3D%3D?line=2'>3</a>\u001b[0m solver \u001b[39m=\u001b[39m ThetaMethod(eqtype\u001b[39m=\u001b[39m\u001b[39m'\u001b[39m\u001b[39mODE\u001b[39m\u001b[39m'\u001b[39m,params\u001b[39m=\u001b[39mparameters) \n\u001b[0;32m      <a href='vscode-notebook-cell:/c%3A/Users/pc/PACSproject_AdaLED/scripts/datagen/create_datagen.ipynb#W1sZmlsZQ%3D%3D?line=4'>5</a>\u001b[0m MS \u001b[39m=\u001b[39m MitchellSchaeffer(solver, k\u001b[39m=\u001b[39m\u001b[39m2\u001b[39m,alpha\u001b[39m=\u001b[39m\u001b[39m.1\u001b[39m,epsilon\u001b[39m=\u001b[39m\u001b[39m.2\u001b[39m,I\u001b[39m=\u001b[39m\u001b[39m2\u001b[39m,gamma\u001b[39m=\u001b[39m\u001b[39m1\u001b[39m,grid_size\u001b[39m=\u001b[39m(\u001b[39m50\u001b[39m,\u001b[39m50\u001b[39m))\n\u001b[1;32m----> <a href='vscode-notebook-cell:/c%3A/Users/pc/PACSproject_AdaLED/scripts/datagen/create_datagen.ipynb#W1sZmlsZQ%3D%3D?line=5'>6</a>\u001b[0m MS\u001b[39m.\u001b[39;49mgenerate_dataset(\u001b[39m1000\u001b[39;49m,\u001b[39m'\u001b[39;49m\u001b[39mtestdata_def\u001b[39;49m\u001b[39m'\u001b[39;49m)\n",
      "File \u001b[1;32mc:\\Users\\pc\\PACSproject_AdaLED\\scripts\\datagen\\mitchellschaeffer.py:98\u001b[0m, in \u001b[0;36mMitchellSchaeffer.generate_dataset\u001b[1;34m(self, n_samples, filename, format, plot)\u001b[0m\n\u001b[0;32m     96\u001b[0m \u001b[39mfor\u001b[39;00m i \u001b[39min\u001b[39;00m \u001b[39mrange\u001b[39m(n_samples):\n\u001b[0;32m     97\u001b[0m     x0 \u001b[39m=\u001b[39m (np\u001b[39m.\u001b[39mrandom\u001b[39m.\u001b[39mrandint(\u001b[39m0\u001b[39m,\u001b[39mself\u001b[39m\u001b[39m.\u001b[39mgrid_size[\u001b[39m0\u001b[39m]),np\u001b[39m.\u001b[39mrandom\u001b[39m.\u001b[39mrandint(\u001b[39m0\u001b[39m,\u001b[39mself\u001b[39m\u001b[39m.\u001b[39mgrid_size[\u001b[39m1\u001b[39m]))  \n\u001b[1;32m---> 98\u001b[0m     \u001b[39mself\u001b[39;49m\u001b[39m.\u001b[39;49mgenerate_sample(x0,plot\u001b[39m=\u001b[39;49mplot)\n\u001b[0;32m     99\u001b[0m \u001b[39mself\u001b[39m\u001b[39m.\u001b[39msave_dataset(filename, \u001b[39mformat\u001b[39m)\n",
      "File \u001b[1;32mc:\\Users\\pc\\PACSproject_AdaLED\\scripts\\datagen\\mitchellschaeffer.py:84\u001b[0m, in \u001b[0;36mMitchellSchaeffer.generate_sample\u001b[1;34m(self, x0, plot)\u001b[0m\n\u001b[0;32m     82\u001b[0m \u001b[39mself\u001b[39m\u001b[39m.\u001b[39msolver\u001b[39m.\u001b[39mf \u001b[39m=\u001b[39m f\n\u001b[0;32m     83\u001b[0m \u001b[39mself\u001b[39m\u001b[39m.\u001b[39msolver\u001b[39m.\u001b[39mreset()\n\u001b[1;32m---> 84\u001b[0m \u001b[39mself\u001b[39;49m\u001b[39m.\u001b[39;49msolver\u001b[39m.\u001b[39;49mgenerate()\n\u001b[0;32m     85\u001b[0m \u001b[39mif\u001b[39;00m plot:\n\u001b[0;32m     86\u001b[0m     \u001b[39mself\u001b[39m\u001b[39m.\u001b[39msolver\u001b[39m.\u001b[39mplot_solution()\n",
      "File \u001b[1;32mc:\\Users\\pc\\PACSproject_AdaLED\\scripts\\datagen\\..\\particle\\generate_particle.py:102\u001b[0m, in \u001b[0;36mGenerateParticle.generate\u001b[1;34m(self)\u001b[0m\n\u001b[0;32m    100\u001b[0m \u001b[39mdef\u001b[39;00m \u001b[39mgenerate\u001b[39m(\u001b[39mself\u001b[39m):\n\u001b[0;32m    101\u001b[0m     \u001b[39mif\u001b[39;00m \u001b[39mself\u001b[39m\u001b[39m.\u001b[39meqtype \u001b[39m==\u001b[39m \u001b[39m'\u001b[39m\u001b[39mODE\u001b[39m\u001b[39m'\u001b[39m:\n\u001b[1;32m--> 102\u001b[0m         \u001b[39mreturn\u001b[39;00m \u001b[39mself\u001b[39;49m\u001b[39m.\u001b[39;49mgenerateODE()\n\u001b[0;32m    103\u001b[0m     \u001b[39melif\u001b[39;00m \u001b[39mself\u001b[39m\u001b[39m.\u001b[39meqtype \u001b[39m==\u001b[39m \u001b[39m'\u001b[39m\u001b[39mPDE\u001b[39m\u001b[39m'\u001b[39m:\n\u001b[0;32m    104\u001b[0m         \u001b[39mreturn\u001b[39;00m \u001b[39mself\u001b[39m\u001b[39m.\u001b[39mgeneratePDE()\n",
      "File \u001b[1;32mc:\\Users\\pc\\PACSproject_AdaLED\\scripts\\datagen\\../particle\\thetamethod.py:33\u001b[0m, in \u001b[0;36mThetaMethod.generateODE\u001b[1;34m(self)\u001b[0m\n\u001b[0;32m     28\u001b[0m \u001b[39mdef\u001b[39;00m \u001b[39mg\u001b[39m(v): \u001b[39mreturn\u001b[39;00m v \u001b[39m-\u001b[39m \u001b[39mself\u001b[39m\u001b[39m.\u001b[39mtheta \u001b[39m*\u001b[39m \\\n\u001b[0;32m     29\u001b[0m     \u001b[39mself\u001b[39m\u001b[39m.\u001b[39mf(v, \u001b[39mself\u001b[39m\u001b[39m.\u001b[39mt[n\u001b[39m+\u001b[39m\u001b[39m1\u001b[39m])\u001b[39m*\u001b[39m\u001b[39mself\u001b[39m\u001b[39m.\u001b[39mdt \u001b[39m-\u001b[39m rhs\n\u001b[0;32m     31\u001b[0m size \u001b[39m=\u001b[39m np\u001b[39m.\u001b[39mmean(np\u001b[39m.\u001b[39mabs(\u001b[39mself\u001b[39m\u001b[39m.\u001b[39mu[:, n]))\n\u001b[1;32m---> 33\u001b[0m \u001b[39mself\u001b[39m\u001b[39m.\u001b[39mu[:, n\u001b[39m+\u001b[39m\u001b[39m1\u001b[39m] \u001b[39m=\u001b[39m newton(g, x0\u001b[39m=\u001b[39;49m\u001b[39mself\u001b[39;49m\u001b[39m.\u001b[39;49mu[:, n], tol\u001b[39m=\u001b[39;49m(size\u001b[39m+\u001b[39;49m\u001b[39m1\u001b[39;49m)\u001b[39m*\u001b[39;49m\u001b[39mself\u001b[39;49m\u001b[39m.\u001b[39;49mtol)\n",
      "File \u001b[1;32mc:\\Users\\pc\\anaconda3\\lib\\site-packages\\scipy\\optimize\\_zeros_py.py:278\u001b[0m, in \u001b[0;36mnewton\u001b[1;34m(func, x0, fprime, args, tol, maxiter, fprime2, x1, rtol, full_output, disp)\u001b[0m\n\u001b[0;32m    276\u001b[0m     \u001b[39mraise\u001b[39;00m \u001b[39mValueError\u001b[39;00m(\u001b[39m\"\u001b[39m\u001b[39mmaxiter must be greater than 0\u001b[39m\u001b[39m\"\u001b[39m)\n\u001b[0;32m    277\u001b[0m \u001b[39mif\u001b[39;00m np\u001b[39m.\u001b[39msize(x0) \u001b[39m>\u001b[39m \u001b[39m1\u001b[39m:\n\u001b[1;32m--> 278\u001b[0m     \u001b[39mreturn\u001b[39;00m _array_newton(func, x0, fprime, args, tol, maxiter, fprime2,\n\u001b[0;32m    279\u001b[0m                          full_output)\n\u001b[0;32m    281\u001b[0m \u001b[39m# Convert to float (don't use float(x0); this works also for complex x0)\u001b[39;00m\n\u001b[0;32m    282\u001b[0m p0 \u001b[39m=\u001b[39m \u001b[39m1.0\u001b[39m \u001b[39m*\u001b[39m x0\n",
      "File \u001b[1;32mc:\\Users\\pc\\anaconda3\\lib\\site-packages\\scipy\\optimize\\_zeros_py.py:418\u001b[0m, in \u001b[0;36m_array_newton\u001b[1;34m(func, x0, fprime, args, tol, maxiter, fprime2, full_output)\u001b[0m\n\u001b[0;32m    416\u001b[0m p1 \u001b[39m=\u001b[39m p \u001b[39m*\u001b[39m (\u001b[39m1\u001b[39m \u001b[39m+\u001b[39m dx) \u001b[39m+\u001b[39m np\u001b[39m.\u001b[39mwhere(p \u001b[39m>\u001b[39m\u001b[39m=\u001b[39m \u001b[39m0\u001b[39m, dx, \u001b[39m-\u001b[39mdx)\n\u001b[0;32m    417\u001b[0m q0 \u001b[39m=\u001b[39m np\u001b[39m.\u001b[39masarray(func(p, \u001b[39m*\u001b[39margs))\n\u001b[1;32m--> 418\u001b[0m q1 \u001b[39m=\u001b[39m np\u001b[39m.\u001b[39masarray(func(p1, \u001b[39m*\u001b[39;49margs))\n\u001b[0;32m    419\u001b[0m active \u001b[39m=\u001b[39m np\u001b[39m.\u001b[39mones_like(p, dtype\u001b[39m=\u001b[39m\u001b[39mbool\u001b[39m)\n\u001b[0;32m    420\u001b[0m \u001b[39mfor\u001b[39;00m iteration \u001b[39min\u001b[39;00m \u001b[39mrange\u001b[39m(maxiter):\n",
      "File \u001b[1;32mc:\\Users\\pc\\PACSproject_AdaLED\\scripts\\datagen\\../particle\\thetamethod.py:29\u001b[0m, in \u001b[0;36mThetaMethod.generateODE.<locals>.g\u001b[1;34m(v)\u001b[0m\n\u001b[0;32m     28\u001b[0m \u001b[39mdef\u001b[39;00m \u001b[39mg\u001b[39m(v): \u001b[39mreturn\u001b[39;00m v \u001b[39m-\u001b[39m \u001b[39mself\u001b[39m\u001b[39m.\u001b[39mtheta \u001b[39m*\u001b[39m \\\n\u001b[1;32m---> 29\u001b[0m     \u001b[39mself\u001b[39;49m\u001b[39m.\u001b[39;49mf(v, \u001b[39mself\u001b[39;49m\u001b[39m.\u001b[39;49mt[n\u001b[39m+\u001b[39;49m\u001b[39m1\u001b[39;49m])\u001b[39m*\u001b[39m\u001b[39mself\u001b[39m\u001b[39m.\u001b[39mdt \u001b[39m-\u001b[39m rhs\n",
      "\u001b[1;31mKeyboardInterrupt\u001b[0m: "
     ]
    }
   ],
   "source": [
    "parameters = ODEParams(T=500, dt=0.1, u0=[0.,0.],theta=0.5, tol=1e-2)\n",
    "\n",
    "solver = ThetaMethod(eqtype='ODE',params=parameters) \n",
    "\n",
    "MS = MitchellSchaeffer(solver, k=2,alpha=.1,epsilon=.2,I=2,gamma=1,grid_size=(10,10))\n",
    "MS.generate_dataset(10,'testdata_def')"
   ]
  }
 ],
 "metadata": {
  "kernelspec": {
   "display_name": "base",
   "language": "python",
   "name": "python3"
  },
  "language_info": {
   "codemirror_mode": {
    "name": "ipython",
    "version": 3
   },
   "file_extension": ".py",
   "mimetype": "text/x-python",
   "name": "python",
   "nbconvert_exporter": "python",
   "pygments_lexer": "ipython3",
   "version": "3.10.9"
  }
 },
 "nbformat": 4,
 "nbformat_minor": 2
}
