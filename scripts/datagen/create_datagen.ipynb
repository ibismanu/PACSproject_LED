{
 "cells": [
  {
   "cell_type": "code",
   "execution_count": 1,
   "metadata": {},
   "outputs": [],
   "source": [
    "import sys\n",
    "sys.path.append('../datagen/')\n",
    "from mitchellschaeffer_parallel import MitchellSchaeffer\n",
    "import numpy as np\n",
    "import os\n",
    "\n",
    "sys.path.append('../particle/')\n",
    "from generate_particle_parallel import ODEParams"
   ]
  },
  {
   "cell_type": "code",
   "execution_count": 6,
   "metadata": {},
   "outputs": [],
   "source": [
    "num_samples = 3\n",
    "num_processes = 1\n",
    "grid_size = (5,5)"
   ]
  },
  {
   "cell_type": "code",
   "execution_count": 11,
   "metadata": {},
   "outputs": [
    {
     "name": "stdout",
     "output_type": "stream",
     "text": [
      "Program finished in 14.243356400053017 seconds\n"
     ]
    }
   ],
   "source": [
    "parameters = ODEParams(T=500, dt=0.5, u0=[0.0, 0.0], theta=0.5, tol=1e-2)\n",
    "\n",
    "MS = MitchellSchaeffer(\n",
    "    eqtype=\"ODE\",\n",
    "    params=parameters,\n",
    "    k=8,\n",
    "    alpha=0.15,\n",
    "    epsilon=0.01,\n",
    "    I=0.125,\n",
    "    gamma=0.1,\n",
    "    grid_size=grid_size,\n",
    ")\n",
    "MS.generate_dataset_parallel(num_samples, num_processes, plot=False)"
   ]
  },
  {
   "cell_type": "code",
   "execution_count": 12,
   "metadata": {},
   "outputs": [],
   "source": [
    "# Merge the generated samples into a single file\n",
    "merged_data = []\n",
    "\n",
    "for sample_id in range(num_samples):\n",
    "    filename = f'sample_{sample_id}.npy'\n",
    "    sample_data = np.load(filename)\n",
    "    merged_data.append(sample_data)\n",
    "\n",
    "merged_data = np.array(merged_data)\n",
    "\n",
    "# Save the merged data to a single file\n",
    "np.savez_compressed('../../dataset/merged_dataset.npz', my_data = merged_data)"
   ]
  },
  {
   "cell_type": "code",
   "execution_count": null,
   "metadata": {},
   "outputs": [],
   "source": [
    "# Optionally, remove the individual sample files\n",
    "for sample_id in range(num_samples):\n",
    "    filename = f'sample_{sample_id}.npy'\n",
    "    os.remove(filename)"
   ]
  },
  {
   "cell_type": "code",
   "execution_count": 17,
   "metadata": {},
   "outputs": [
    {
     "data": {
      "text/plain": [
       "[<matplotlib.lines.Line2D at 0x1fb6b6bba90>]"
      ]
     },
     "execution_count": 17,
     "metadata": {},
     "output_type": "execute_result"
    },
    {
     "data": {
      "image/png": "[encoded data removed]",
      "text/plain": [
       "<Figure size 640x480 with 1 Axes>"
      ]
     },
     "metadata": {},
     "output_type": "display_data"
    }
   ],
   "source": [
    "dataset = np.load('../../dataset/merged_dataset.npz')\n",
    "data = dataset['my_data']\n",
    "import matplotlib.pyplot as plt\n",
    "# for i in range(100):\n",
    "    # plt.imshow(data[0,10*i,:,:,0])\n",
    "    # plt.colorbar()\n",
    "    # plt.show()\n",
    "plt.plot(data[0,:,1,1,0])\n"
   ]
  }
 ],
 "metadata": {
  "kernelspec": {
   "display_name": "base",
   "language": "python",
   "name": "python3"
  },
  "language_info": {
   "codemirror_mode": {
    "name": "ipython",
    "version": 3
   },
   "file_extension": ".py",
   "mimetype": "text/x-python",
   "name": "python",
   "nbconvert_exporter": "python",
   "pygments_lexer": "ipython3",
   "version": "3.10.9"
  }
 },
 "nbformat": 4,
 "nbformat_minor": 2
}
