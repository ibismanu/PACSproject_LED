{
 "cells": [
  {
   "cell_type": "code",
   "execution_count": 1,
   "metadata": {},
   "outputs": [],
   "source": [
    "import sys\n",
    "sys.path.append('../datagen/')\n",
    "from mitchellschaeffer_parallel import MitchellSchaeffer\n",
    "import numpy as np\n",
    "import os\n",
    "\n",
    "sys.path.append('../particle/')\n",
    "from generate_particle_parallel import ODEParams"
   ]
  },
  {
   "cell_type": "code",
   "execution_count": 2,
   "metadata": {},
   "outputs": [],
   "source": [
    "num_samples = 6\n",
    "num_processes = 6 \n",
    "grid_size = (40,40)"
   ]
  },
  {
   "cell_type": "code",
   "execution_count": 3,
   "metadata": {},
   "outputs": [
    {
     "ename": "MemoryError",
     "evalue": "In RendererAgg: Out of memory",
     "output_type": "error",
     "traceback": [
      "\u001b[1;31m---------------------------------------------------------------------------\u001b[0m",
      "\u001b[1;31mRemoteTraceback\u001b[0m                           Traceback (most recent call last)",
      "\u001b[1;31mRemoteTraceback\u001b[0m: \n\"\"\"\nTraceback (most recent call last):\n  File \"c:\\Users\\pc\\anaconda3\\lib\\multiprocessing\\pool.py\", line 125, in worker\n    result = (True, func(*args, **kwds))\n  File \"c:\\Users\\pc\\anaconda3\\lib\\multiprocessing\\pool.py\", line 48, in mapstar\n    return list(map(*args))\n  File \"c:\\Users\\pc\\PACSproject_AdaLED\\scripts\\datagen\\mitchellschaeffer_parallel.py\", line 84, in generate_sample\n    solver.plot_solution()\n  File \"c:\\Users\\pc\\PACSproject_AdaLED\\scripts\\datagen\\..\\particle\\generate_particle_parallel.py\", line 132, in plot_solution\n    fig.tight_layout()\n  File \"c:\\Users\\pc\\anaconda3\\lib\\site-packages\\matplotlib\\figure.py\", line 3494, in tight_layout\n    engine.execute(self)\n  File \"c:\\Users\\pc\\anaconda3\\lib\\site-packages\\matplotlib\\layout_engine.py\", line 173, in execute\n    renderer = fig._get_renderer()\n  File \"c:\\Users\\pc\\anaconda3\\lib\\site-packages\\matplotlib\\figure.py\", line 2714, in _get_renderer\n    return self.canvas.get_renderer()\n  File \"c:\\Users\\pc\\anaconda3\\lib\\site-packages\\matplotlib\\_api\\deprecation.py\", line 384, in wrapper\n    return func(*inner_args, **inner_kwargs)\n  File \"c:\\Users\\pc\\anaconda3\\lib\\site-packages\\matplotlib\\backends\\backend_agg.py\", line 411, in get_renderer\n    self.renderer = RendererAgg(w, h, self.figure.dpi)\n  File \"c:\\Users\\pc\\anaconda3\\lib\\site-packages\\matplotlib\\backends\\backend_agg.py\", line 84, in __init__\n    self._renderer = _RendererAgg(int(width), int(height), dpi)\nMemoryError: In RendererAgg: Out of memory\n\"\"\"",
      "\nThe above exception was the direct cause of the following exception:\n",
      "\u001b[1;31mMemoryError\u001b[0m                               Traceback (most recent call last)",
      "\u001b[1;32mc:\\Users\\pc\\PACSproject_AdaLED\\scripts\\datagen\\create_datagen.ipynb Cell 3\u001b[0m line \u001b[0;36m4\n\u001b[0;32m      <a href='vscode-notebook-cell:/c%3A/Users/pc/PACSproject_AdaLED/scripts/datagen/create_datagen.ipynb#W2sZmlsZQ%3D%3D?line=0'>1</a>\u001b[0m parameters \u001b[39m=\u001b[39m ODEParams(T\u001b[39m=\u001b[39m\u001b[39m500\u001b[39m, dt\u001b[39m=\u001b[39m\u001b[39m0.1\u001b[39m, u0\u001b[39m=\u001b[39m[\u001b[39m0.\u001b[39m,\u001b[39m0.\u001b[39m],theta\u001b[39m=\u001b[39m\u001b[39m0.5\u001b[39m, tol\u001b[39m=\u001b[39m\u001b[39m1e-2\u001b[39m)\n\u001b[0;32m      <a href='vscode-notebook-cell:/c%3A/Users/pc/PACSproject_AdaLED/scripts/datagen/create_datagen.ipynb#W2sZmlsZQ%3D%3D?line=2'>3</a>\u001b[0m MS \u001b[39m=\u001b[39m MitchellSchaeffer(eqtype\u001b[39m=\u001b[39m\u001b[39m'\u001b[39m\u001b[39mODE\u001b[39m\u001b[39m'\u001b[39m, params\u001b[39m=\u001b[39mparameters, k\u001b[39m=\u001b[39m\u001b[39m2\u001b[39m,alpha\u001b[39m=\u001b[39m\u001b[39m.1\u001b[39m,epsilon\u001b[39m=\u001b[39m\u001b[39m.2\u001b[39m,I\u001b[39m=\u001b[39m\u001b[39m2\u001b[39m,gamma\u001b[39m=\u001b[39m\u001b[39m1\u001b[39m,grid_size\u001b[39m=\u001b[39mgrid_size)\n\u001b[1;32m----> <a href='vscode-notebook-cell:/c%3A/Users/pc/PACSproject_AdaLED/scripts/datagen/create_datagen.ipynb#W2sZmlsZQ%3D%3D?line=3'>4</a>\u001b[0m MS\u001b[39m.\u001b[39;49mgenerate_dataset_parallel(num_samples, num_processes, plot\u001b[39m=\u001b[39;49m\u001b[39mTrue\u001b[39;49;00m)\n",
      "File \u001b[1;32mc:\\Users\\pc\\PACSproject_AdaLED\\scripts\\datagen\\mitchellschaeffer_parallel.py:99\u001b[0m, in \u001b[0;36mMitchellSchaeffer.generate_dataset_parallel\u001b[1;34m(self, num_samples, num_processes, x0, plot)\u001b[0m\n\u001b[0;32m     96\u001b[0m start_time \u001b[39m=\u001b[39m time\u001b[39m.\u001b[39mperf_counter()\n\u001b[0;32m     97\u001b[0m \u001b[39mwith\u001b[39;00m Pool(processes\u001b[39m=\u001b[39mnum_processes) \u001b[39mas\u001b[39;00m pool:\n\u001b[0;32m     98\u001b[0m     \u001b[39m# Generate samples in parallel\u001b[39;00m\n\u001b[1;32m---> 99\u001b[0m     pool\u001b[39m.\u001b[39;49mmap(\u001b[39mself\u001b[39;49m\u001b[39m.\u001b[39;49mgenerate_sample, arg_list)\n\u001b[0;32m    100\u001b[0m finish_time \u001b[39m=\u001b[39m time\u001b[39m.\u001b[39mperf_counter()\n\u001b[0;32m    101\u001b[0m \u001b[39mprint\u001b[39m(\u001b[39m'\u001b[39m\u001b[39mProgram finished in \u001b[39m\u001b[39m{}\u001b[39;00m\u001b[39m seconds\u001b[39m\u001b[39m'\u001b[39m\u001b[39m.\u001b[39mformat(finish_time\u001b[39m-\u001b[39mstart_time))\n",
      "File \u001b[1;32mc:\\Users\\pc\\anaconda3\\lib\\multiprocessing\\pool.py:367\u001b[0m, in \u001b[0;36mPool.map\u001b[1;34m(self, func, iterable, chunksize)\u001b[0m\n\u001b[0;32m    362\u001b[0m \u001b[39mdef\u001b[39;00m \u001b[39mmap\u001b[39m(\u001b[39mself\u001b[39m, func, iterable, chunksize\u001b[39m=\u001b[39m\u001b[39mNone\u001b[39;00m):\n\u001b[0;32m    363\u001b[0m     \u001b[39m'''\u001b[39;00m\n\u001b[0;32m    364\u001b[0m \u001b[39m    Apply `func` to each element in `iterable`, collecting the results\u001b[39;00m\n\u001b[0;32m    365\u001b[0m \u001b[39m    in a list that is returned.\u001b[39;00m\n\u001b[0;32m    366\u001b[0m \u001b[39m    '''\u001b[39;00m\n\u001b[1;32m--> 367\u001b[0m     \u001b[39mreturn\u001b[39;00m \u001b[39mself\u001b[39;49m\u001b[39m.\u001b[39;49m_map_async(func, iterable, mapstar, chunksize)\u001b[39m.\u001b[39;49mget()\n",
      "File \u001b[1;32mc:\\Users\\pc\\anaconda3\\lib\\multiprocessing\\pool.py:774\u001b[0m, in \u001b[0;36mApplyResult.get\u001b[1;34m(self, timeout)\u001b[0m\n\u001b[0;32m    772\u001b[0m     \u001b[39mreturn\u001b[39;00m \u001b[39mself\u001b[39m\u001b[39m.\u001b[39m_value\n\u001b[0;32m    773\u001b[0m \u001b[39melse\u001b[39;00m:\n\u001b[1;32m--> 774\u001b[0m     \u001b[39mraise\u001b[39;00m \u001b[39mself\u001b[39m\u001b[39m.\u001b[39m_value\n",
      "\u001b[1;31mMemoryError\u001b[0m: In RendererAgg: Out of memory"
     ]
    }
   ],
   "source": [
    "parameters = ODEParams(T=500, dt=0.1, u0=[0.,0.],theta=0.5, tol=1e-2)\n",
    "\n",
    "MS = MitchellSchaeffer(eqtype='ODE', params=parameters, k=2,alpha=.1,epsilon=.2,I=2,gamma=1,grid_size=grid_size)\n",
    "MS.generate_dataset_parallel(num_samples, num_processes, plot=True)"
   ]
  },
  {
   "cell_type": "code",
   "execution_count": null,
   "metadata": {},
   "outputs": [],
   "source": [
    "# Merge the generated samples into a single file\n",
    "merged_data = []\n",
    "\n",
    "for sample_id in range(num_samples):\n",
    "    filename = f'sample_{sample_id}.npy'\n",
    "    sample_data = np.load(filename)\n",
    "    merged_data.append(sample_data)\n",
    "\n",
    "merged_data = np.array(merged_data)\n",
    "\n",
    "# Save the merged data to a single file\n",
    "np.save('../../dataset/merged_dataset.npy', merged_data)\n",
    "\n",
    "# Optionally, remove the individual sample files\n",
    "for sample_id in range(num_samples):\n",
    "    filename = f'sample_{sample_id}.npy'\n",
    "    os.remove(filename)"
   ]
  },
  {
   "cell_type": "code",
   "execution_count": null,
   "metadata": {},
   "outputs": [
    {
     "name": "stdout",
     "output_type": "stream",
     "text": [
      "(5001, 5, 5, 2)\n"
     ]
    }
   ],
   "source": [
    "dataset = np.load('../../dataset/merged_dataset.npy')\n",
    "print(np.shape(dataset[0]))"
   ]
  },
  {
   "cell_type": "code",
   "execution_count": null,
   "metadata": {},
   "outputs": [],
   "source": [
    "# import matplotlib.pyplot as plt\n",
    "\n",
    "# # plot the stored dataset to see if it makes sense\n",
    "\n",
    "# for i in range(grid_size[0]):\n",
    "#     for j in range(grid_size[1]):\n",
    "#         plt.plot(range(MS.num_it+1),dataset[0][:,i,j,0])\n",
    "#         plt.show()"
   ]
  }
 ],
 "metadata": {
  "kernelspec": {
   "display_name": "base",
   "language": "python",
   "name": "python3"
  },
  "language_info": {
   "codemirror_mode": {
    "name": "ipython",
    "version": 3
   },
   "file_extension": ".py",
   "mimetype": "text/x-python",
   "name": "python",
   "nbconvert_exporter": "python",
   "pygments_lexer": "ipython3",
   "version": "3.10.9"
  }
 },
 "nbformat": 4,
 "nbformat_minor": 2
}
