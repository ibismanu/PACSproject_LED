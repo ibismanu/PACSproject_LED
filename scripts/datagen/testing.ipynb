{
 "cells": [
  {
   "cell_type": "markdown",
   "metadata": {},
   "source": [
    "## Imports"
   ]
  },
  {
   "cell_type": "code",
   "execution_count": null,
   "metadata": {},
   "outputs": [],
   "source": [
    "import numpy as np\n",
    "import matplotlib.pyplot as plt"
   ]
  },
  {
   "cell_type": "markdown",
   "metadata": {},
   "source": [
    "## Testing equation"
   ]
  },
  {
   "cell_type": "markdown",
   "metadata": {},
   "source": [
    "$$ \n",
    "\\begin{cases} \n",
    "    x' = -y\\\\\n",
    "    y' = x \\\\\n",
    "    x(0) = 1 \\\\\n",
    "    y(0) = 1\n",
    "\\end{cases}\n",
    "$$\n",
    "$$\n",
    "x_{ex}(t) = \\cos(t) - \\sin(t)\\\\\n",
    "y_{ex}(t) = \\cos(t) + \\sin(t)\n",
    "$$"
   ]
  },
  {
   "cell_type": "markdown",
   "metadata": {},
   "source": [
    "## Hyperparameters"
   ]
  },
  {
   "cell_type": "code",
   "execution_count": null,
   "metadata": {},
   "outputs": [],
   "source": [
    "T = 6.28\n",
    "dt = 0.02\n",
    "u0 = [1, 1]\n",
    "def f(v, t): return np.array([-v[1], v[0]])\n",
    "def u_ex(t): return np.cos(t)-np.sin(t)\n",
    "\n",
    "\n",
    "def v_ex(t): return np.cos(t)+np.sin(t)"
   ]
  },
  {
   "cell_type": "markdown",
   "metadata": {},
   "source": [
    "## Theta Method"
   ]
  },
  {
   "cell_type": "code",
   "execution_count": null,
   "metadata": {},
   "outputs": [],
   "source": [
    "from DataGen import ThetaMethod\n",
    "\n",
    "theta = 1\n",
    "\n",
    "TM = ThetaMethod(T=T, dt=dt, u0=u0, f=f, theta=theta, eqtype='ODE')\n",
    "\n",
    "TM.generate()\n",
    "\n",
    "plt.plot(TM.times, TM.u[0, :], 'r.-')\n",
    "plt.plot(TM.times, u_ex(TM.times), 'b-')\n",
    "plt.title(\"u\")\n",
    "plt.legend(['u', 'u_ex'])\n",
    "plt.show()\n",
    "\n",
    "plt.plot(TM.times, TM.u[1, :], 'r.-')\n",
    "plt.plot(TM.times, v_ex(TM.times), 'b-')\n",
    "plt.title(\"v\")\n",
    "plt.legend(['v', 'v_ex'])\n",
    "plt.show()"
   ]
  },
  {
   "cell_type": "markdown",
   "metadata": {},
   "source": [
    "## Runge-Kutta"
   ]
  },
  {
   "cell_type": "markdown",
   "metadata": {},
   "source": [
    "### Explicit"
   ]
  },
  {
   "cell_type": "code",
   "execution_count": 47,
   "metadata": {},
   "outputs": [],
   "source": [
    "from DataGen import RK_explicit\n",
    "\n",
    "but_A = np.array([[0, 0], [0.5, 0]], dtype=np.float32)\n",
    "but_b = np.array([0, 1], dtype=np.float32)\n",
    "but_c = np.array([0, 0.5], dtype=np.float32)\n",
    "\n",
    "RK = RK_explicit(T=T, dt=dt, u0=u0, but_A=but_A,\n",
    "                 but_b=but_b, but_c=but_c, f=f, eqtype='ODE')\n",
    "\n",
    "RK.generate()\n",
    "\n",
    "plt.plot(TM.times, TM.u[0, :], 'r.-')\n",
    "plt.plot(TM.times, u_ex(TM.times), 'b-')\n",
    "plt.title(\"u\")\n",
    "plt.legend(['u', 'u_ex'])\n",
    "plt.show()\n",
    "\n",
    "plt.plot(TM.times, TM.u[1, :], 'r.-')\n",
    "plt.plot(TM.times, v_ex(TM.times), 'b-')\n",
    "plt.title(\"v\")\n",
    "plt.legend(['v', 'v_ex'])\n",
    "plt.show()"
   ]
  }
 ],
 "metadata": {
  "kernelspec": {
   "display_name": "pacs",
   "language": "python",
   "name": "python3"
  },
  "language_info": {
   "codemirror_mode": {
    "name": "ipython",
    "version": 3
   },
   "file_extension": ".py",
   "mimetype": "text/x-python",
   "name": "python",
   "nbconvert_exporter": "python",
   "pygments_lexer": "ipython3",
   "version": "3.9.17"
  },
  "orig_nbformat": 4
 },
 "nbformat": 4,
 "nbformat_minor": 2
}
