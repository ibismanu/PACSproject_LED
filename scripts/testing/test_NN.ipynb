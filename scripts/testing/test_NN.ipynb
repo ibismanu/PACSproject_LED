{
 "cells": [
  {
   "cell_type": "code",
   "execution_count": null,
   "id": "fadf43ab",
   "metadata": {},
   "outputs": [],
   "source": [
    "import numpy as np\n",
    "import matplotlib.pyplot as plt\n",
    "\n",
    "import sys\n",
    "sys.path.append('..')\n",
    "from NeuralNetwork.led import LED\n",
    "from utilities.params import NNParams\n",
    "\n",
    "import tensorflow as tf\n",
    "tfk = tf.keras\n",
    "tfkl = tfk.layers"
   ]
  },
  {
   "cell_type": "code",
   "execution_count": null,
   "id": "332a69fa",
   "metadata": {},
   "outputs": [],
   "source": [
    "latent_dim = 40\n",
    "data_dir_test = '../../dataset/test_set.npz'\n",
    "autoencoder_dir = '../../models/autoencoder1'\n",
    "\n",
    "test = np.load(data_dir_test)['test_data']\n",
    "print(np.shape(test))"
   ]
  },
  {
   "cell_type": "code",
   "execution_count": null,
   "metadata": {},
   "outputs": [],
   "source": [
    "\n",
    "network = LED(latent_dim=latent_dim)\n",
    "X_predicted, error = network.test_autoencoder(autoencoder_dir=autoencoder_dir,data_dir_test=data_dir_test,compressed_name_test='test_data')\n"
   ]
  },
  {
   "cell_type": "code",
   "execution_count": null,
   "metadata": {},
   "outputs": [],
   "source": [
    "X_predicted = np.reshape(X_predicted,(1,1001,20,20,2))\n",
    "\n",
    "for i in range(10):\n",
    "    fig,(ax1,ax2) = plt.subplots(2,1,figsize=(8, 6))\n",
    "\n",
    "    ax1.plot(np.arange(0,np.shape(test)[1],1), X_predicted[0, :, i, i, 0])\n",
    "    ax1.set_title('Predicted')\n",
    "\n",
    "    ax2.plot(np.arange(0,np.shape(test)[1],1), test[0, :, i, i, 0])\n",
    "    ax2.set_title('Test')\n",
    "\n",
    "    plt.tight_layout()\n",
    "    plt.show()"
   ]
  },
  {
   "cell_type": "code",
   "execution_count": null,
   "id": "851639f9",
   "metadata": {},
   "outputs": [],
   "source": [
    "dataset = np.load('../../dataset/mitch_20.npz')\n",
    "data = dataset['my_data']\n",
    "\n",
    "print(np.shape(data))"
   ]
  },
  {
   "cell_type": "code",
   "execution_count": null,
   "id": "28f3fed3",
   "metadata": {},
   "outputs": [],
   "source": [
    "latent_dim = 40\n",
    "seq_length = 10\n",
    "data_dir = \"../../dataset/\"\n",
    "saving_dir = \"../../models/\"\n",
    "\n",
    "Network = LED(latent_dim,data_dir,saving_dir) "
   ]
  },
  {
   "cell_type": "code",
   "execution_count": null,
   "id": "0377f70b",
   "metadata": {
    "scrolled": true
   },
   "outputs": [],
   "source": [
    "input_shape_ae = np.shape(data)[-3:]\n",
    "conv_ae = [(8,3),(16,3),(32,3)]\n",
    "#conv_ae = [(16,3),(32,3)]\n",
    "dense_ae = [75,128]\n",
    "#dense_ae = [8]\n",
    "Network.build_autoencoder(input_shape_ae, conv_ae, dense_ae)"
   ]
  },
  {
   "cell_type": "code",
   "execution_count": null,
   "id": "7ed0914b",
   "metadata": {
    "scrolled": true
   },
   "outputs": [],
   "source": [
    "callbacks =  [tfk.callbacks.EarlyStopping(\n",
    "                    monitor='val_loss', patience=10, restore_best_weights=True),\n",
    "                tfk.callbacks.ReduceLROnPlateau(\n",
    "                    monitor='val_loss', patience=5, factor=0.5, min_lr=1e-5),\n",
    "            ]\n",
    "aeparams = NNParams(batch_size=32, epochs=1, validation_split=0.2, callbacks=callbacks)\n",
    "#Network.train_autoencoder(\"mitch_20.npz\",aeparams,\"first_test\")"
   ]
  },
  {
   "cell_type": "code",
   "execution_count": null,
   "id": "43a2cd03",
   "metadata": {
    "scrolled": true
   },
   "outputs": [],
   "source": [
    "\n",
    "input_shape_rnn = (seq_length,latent_dim)\n",
    "dense_rnn = [64,32]\n",
    "lstm_rnn = [(32,False),(16,True),(32,False)]\n",
    "\n",
    "Network.build_RNN(input_shape_rnn, lstm_rnn, dense_rnn)"
   ]
  },
  {
   "cell_type": "code",
   "execution_count": null,
   "id": "05e56f46",
   "metadata": {},
   "outputs": [],
   "source": [
    "Network.train_RNN(\"mitch_20.npz\", autoencoder_name=\"../../models/first_test\", parameters=aeparams, saving_name=\"first_RNN_test\")"
   ]
  }
 ],
 "metadata": {
  "kernelspec": {
   "display_name": "Python 3 (ipykernel)",
   "language": "python",
   "name": "python3"
  },
  "language_info": {
   "codemirror_mode": {
    "name": "ipython",
    "version": 3
   },
   "file_extension": ".py",
   "mimetype": "text/x-python",
   "name": "python",
   "nbconvert_exporter": "python",
   "pygments_lexer": "ipython3",
   "version": "3.10.9"
  }
 },
 "nbformat": 4,
 "nbformat_minor": 5
}
