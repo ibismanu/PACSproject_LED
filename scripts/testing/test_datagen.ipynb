{
 "cells": [
  {
   "cell_type": "code",
   "execution_count": 1,
   "metadata": {},
   "outputs": [],
   "source": [
    "import sys\n",
    "sys.path.append('../datagen/')\n",
    "from mitchellschaeffer import MitchellSchaeffer\n",
    "\n",
    "sys.path.append('../particle/')\n",
    "from generate_particle import ODEParams\n",
    "from thetamethod import ThetaMethod"
   ]
  },
  {
   "cell_type": "code",
   "execution_count": 7,
   "metadata": {},
   "outputs": [],
   "source": [
    "def f():\n",
    "    pass"
   ]
  },
  {
   "cell_type": "code",
   "execution_count": 8,
   "metadata": {},
   "outputs": [
    {
     "ename": "KeyboardInterrupt",
     "evalue": "",
     "output_type": "error",
     "traceback": [
      "\u001b[1;31m---------------------------------------------------------------------------\u001b[0m",
      "\u001b[1;31mKeyboardInterrupt\u001b[0m                         Traceback (most recent call last)",
      "\u001b[1;32mc:\\Users\\pc\\PACSproject_AdaLED\\scripts\\testing\\test_datagen.ipynb Cell 3\u001b[0m line \u001b[0;36m6\n\u001b[0;32m      <a href='vscode-notebook-cell:/c%3A/Users/pc/PACSproject_AdaLED/scripts/testing/test_datagen.ipynb#W1sZmlsZQ%3D%3D?line=2'>3</a>\u001b[0m solver \u001b[39m=\u001b[39m ThetaMethod(eqtype\u001b[39m=\u001b[39m\u001b[39m'\u001b[39m\u001b[39mODE\u001b[39m\u001b[39m'\u001b[39m,params\u001b[39m=\u001b[39mparameters) \n\u001b[0;32m      <a href='vscode-notebook-cell:/c%3A/Users/pc/PACSproject_AdaLED/scripts/testing/test_datagen.ipynb#W1sZmlsZQ%3D%3D?line=4'>5</a>\u001b[0m MS \u001b[39m=\u001b[39m MitchellSchaeffer(solver, k\u001b[39m=\u001b[39m\u001b[39m2\u001b[39m,alpha\u001b[39m=\u001b[39m\u001b[39m.1\u001b[39m,epsilon\u001b[39m=\u001b[39m\u001b[39m.2\u001b[39m,I\u001b[39m=\u001b[39m\u001b[39m2\u001b[39m,gamma\u001b[39m=\u001b[39m\u001b[39m1\u001b[39m,grid_size\u001b[39m=\u001b[39m(\u001b[39m5\u001b[39m,\u001b[39m5\u001b[39m))\n\u001b[1;32m----> <a href='vscode-notebook-cell:/c%3A/Users/pc/PACSproject_AdaLED/scripts/testing/test_datagen.ipynb#W1sZmlsZQ%3D%3D?line=5'>6</a>\u001b[0m MS\u001b[39m.\u001b[39;49mgenerate_dataset(\u001b[39m10\u001b[39;49m,\u001b[39m'\u001b[39;49m\u001b[39mtestdata_def\u001b[39;49m\u001b[39m'\u001b[39;49m)\n",
      "File \u001b[1;32mc:\\Users\\pc\\PACSproject_AdaLED\\scripts\\testing\\../datagen\\mitchellschaeffer.py:92\u001b[0m, in \u001b[0;36mMitchellSchaeffer.generate_dataset\u001b[1;34m(self, n_samples, filename, format)\u001b[0m\n\u001b[0;32m     90\u001b[0m \u001b[39mfor\u001b[39;00m i \u001b[39min\u001b[39;00m \u001b[39mrange\u001b[39m(n_samples):\n\u001b[0;32m     91\u001b[0m     x0 \u001b[39m=\u001b[39m (\u001b[39m0\u001b[39m,\u001b[39m0\u001b[39m) \u001b[39m# to be randomized\u001b[39;00m\n\u001b[1;32m---> 92\u001b[0m     \u001b[39mself\u001b[39;49m\u001b[39m.\u001b[39;49mgenerate_sample(x0)\n\u001b[0;32m     93\u001b[0m \u001b[39mself\u001b[39m\u001b[39m.\u001b[39msave_dataset(filename, \u001b[39mformat\u001b[39m)\n",
      "File \u001b[1;32mc:\\Users\\pc\\PACSproject_AdaLED\\scripts\\testing\\../datagen\\mitchellschaeffer.py:75\u001b[0m, in \u001b[0;36mMitchellSchaeffer.generate_sample\u001b[1;34m(self, x0, plot)\u001b[0m\n\u001b[0;32m     73\u001b[0m \u001b[39mself\u001b[39m\u001b[39m.\u001b[39msolver\u001b[39m.\u001b[39mf \u001b[39m=\u001b[39m f\n\u001b[0;32m     74\u001b[0m \u001b[39mself\u001b[39m\u001b[39m.\u001b[39msolver\u001b[39m.\u001b[39mreset()\n\u001b[1;32m---> 75\u001b[0m \u001b[39mself\u001b[39;49m\u001b[39m.\u001b[39;49msolver\u001b[39m.\u001b[39;49mgenerate()\n\u001b[0;32m     76\u001b[0m \u001b[39mif\u001b[39;00m plot:\n\u001b[0;32m     77\u001b[0m     \u001b[39mself\u001b[39m\u001b[39m.\u001b[39msolver\u001b[39m.\u001b[39mplot_solution()\n",
      "File \u001b[1;32mc:\\Users\\pc\\PACSproject_AdaLED\\scripts\\testing\\..\\particle\\generate_particle.py:102\u001b[0m, in \u001b[0;36mGenerateParticle.generate\u001b[1;34m(self)\u001b[0m\n\u001b[0;32m    100\u001b[0m \u001b[39mdef\u001b[39;00m \u001b[39mgenerate\u001b[39m(\u001b[39mself\u001b[39m):\n\u001b[0;32m    101\u001b[0m     \u001b[39mif\u001b[39;00m \u001b[39mself\u001b[39m\u001b[39m.\u001b[39meqtype \u001b[39m==\u001b[39m \u001b[39m'\u001b[39m\u001b[39mODE\u001b[39m\u001b[39m'\u001b[39m:\n\u001b[1;32m--> 102\u001b[0m         \u001b[39mreturn\u001b[39;00m \u001b[39mself\u001b[39;49m\u001b[39m.\u001b[39;49mgenerateODE()\n\u001b[0;32m    103\u001b[0m     \u001b[39melif\u001b[39;00m \u001b[39mself\u001b[39m\u001b[39m.\u001b[39meqtype \u001b[39m==\u001b[39m \u001b[39m'\u001b[39m\u001b[39mPDE\u001b[39m\u001b[39m'\u001b[39m:\n\u001b[0;32m    104\u001b[0m         \u001b[39mreturn\u001b[39;00m \u001b[39mself\u001b[39m\u001b[39m.\u001b[39mgeneratePDE()\n",
      "File \u001b[1;32mc:\\Users\\pc\\PACSproject_AdaLED\\scripts\\testing\\../particle\\thetamethod.py:33\u001b[0m, in \u001b[0;36mThetaMethod.generateODE\u001b[1;34m(self)\u001b[0m\n\u001b[0;32m     28\u001b[0m \u001b[39mdef\u001b[39;00m \u001b[39mg\u001b[39m(v): \u001b[39mreturn\u001b[39;00m v \u001b[39m-\u001b[39m \u001b[39mself\u001b[39m\u001b[39m.\u001b[39mtheta \u001b[39m*\u001b[39m \\\n\u001b[0;32m     29\u001b[0m     \u001b[39mself\u001b[39m\u001b[39m.\u001b[39mf(v, \u001b[39mself\u001b[39m\u001b[39m.\u001b[39mt[n\u001b[39m+\u001b[39m\u001b[39m1\u001b[39m])\u001b[39m*\u001b[39m\u001b[39mself\u001b[39m\u001b[39m.\u001b[39mdt \u001b[39m-\u001b[39m rhs\n\u001b[0;32m     31\u001b[0m size \u001b[39m=\u001b[39m np\u001b[39m.\u001b[39mmean(np\u001b[39m.\u001b[39mabs(\u001b[39mself\u001b[39m\u001b[39m.\u001b[39mu[:, n]))\n\u001b[1;32m---> 33\u001b[0m \u001b[39mself\u001b[39m\u001b[39m.\u001b[39mu[:, n\u001b[39m+\u001b[39m\u001b[39m1\u001b[39m] \u001b[39m=\u001b[39m newton(g, x0\u001b[39m=\u001b[39;49m\u001b[39mself\u001b[39;49m\u001b[39m.\u001b[39;49mu[:, n], tol\u001b[39m=\u001b[39;49m(size\u001b[39m+\u001b[39;49m\u001b[39m1\u001b[39;49m)\u001b[39m*\u001b[39;49m\u001b[39mself\u001b[39;49m\u001b[39m.\u001b[39;49mtol)\n",
      "File \u001b[1;32mc:\\Users\\pc\\anaconda3\\lib\\site-packages\\scipy\\optimize\\_zeros_py.py:278\u001b[0m, in \u001b[0;36mnewton\u001b[1;34m(func, x0, fprime, args, tol, maxiter, fprime2, x1, rtol, full_output, disp)\u001b[0m\n\u001b[0;32m    276\u001b[0m     \u001b[39mraise\u001b[39;00m \u001b[39mValueError\u001b[39;00m(\u001b[39m\"\u001b[39m\u001b[39mmaxiter must be greater than 0\u001b[39m\u001b[39m\"\u001b[39m)\n\u001b[0;32m    277\u001b[0m \u001b[39mif\u001b[39;00m np\u001b[39m.\u001b[39msize(x0) \u001b[39m>\u001b[39m \u001b[39m1\u001b[39m:\n\u001b[1;32m--> 278\u001b[0m     \u001b[39mreturn\u001b[39;00m _array_newton(func, x0, fprime, args, tol, maxiter, fprime2,\n\u001b[0;32m    279\u001b[0m                          full_output)\n\u001b[0;32m    281\u001b[0m \u001b[39m# Convert to float (don't use float(x0); this works also for complex x0)\u001b[39;00m\n\u001b[0;32m    282\u001b[0m p0 \u001b[39m=\u001b[39m \u001b[39m1.0\u001b[39m \u001b[39m*\u001b[39m x0\n",
      "File \u001b[1;32mc:\\Users\\pc\\anaconda3\\lib\\site-packages\\scipy\\optimize\\_zeros_py.py:443\u001b[0m, in \u001b[0;36m_array_newton\u001b[1;34m(func, x0, fprime, args, tol, maxiter, fprime2, full_output)\u001b[0m\n\u001b[0;32m    440\u001b[0m         q1 \u001b[39m=\u001b[39m np\u001b[39m.\u001b[39masarray(func(p1, \u001b[39m*\u001b[39margs))\n\u001b[0;32m    442\u001b[0m zero_der \u001b[39m=\u001b[39m \u001b[39m~\u001b[39mnz_der \u001b[39m&\u001b[39m failures  \u001b[39m# don't include converged with zero-ders\u001b[39;00m\n\u001b[1;32m--> 443\u001b[0m \u001b[39mif\u001b[39;00m zero_der\u001b[39m.\u001b[39;49many():\n\u001b[0;32m    444\u001b[0m     \u001b[39m# Secant warnings\u001b[39;00m\n\u001b[0;32m    445\u001b[0m     \u001b[39mif\u001b[39;00m fprime \u001b[39mis\u001b[39;00m \u001b[39mNone\u001b[39;00m:\n\u001b[0;32m    446\u001b[0m         nonzero_dp \u001b[39m=\u001b[39m (p1 \u001b[39m!=\u001b[39m p)\n",
      "File \u001b[1;32mc:\\Users\\pc\\anaconda3\\lib\\site-packages\\numpy\\core\\_methods.py:57\u001b[0m, in \u001b[0;36m_any\u001b[1;34m(a, axis, dtype, out, keepdims, where)\u001b[0m\n\u001b[0;32m     54\u001b[0m \u001b[39mdef\u001b[39;00m \u001b[39m_any\u001b[39m(a, axis\u001b[39m=\u001b[39m\u001b[39mNone\u001b[39;00m, dtype\u001b[39m=\u001b[39m\u001b[39mNone\u001b[39;00m, out\u001b[39m=\u001b[39m\u001b[39mNone\u001b[39;00m, keepdims\u001b[39m=\u001b[39m\u001b[39mFalse\u001b[39;00m, \u001b[39m*\u001b[39m, where\u001b[39m=\u001b[39m\u001b[39mTrue\u001b[39;00m):\n\u001b[0;32m     55\u001b[0m     \u001b[39m# Parsing keyword arguments is currently fairly slow, so avoid it for now\u001b[39;00m\n\u001b[0;32m     56\u001b[0m     \u001b[39mif\u001b[39;00m where \u001b[39mis\u001b[39;00m \u001b[39mTrue\u001b[39;00m:\n\u001b[1;32m---> 57\u001b[0m         \u001b[39mreturn\u001b[39;00m umr_any(a, axis, dtype, out, keepdims)\n\u001b[0;32m     58\u001b[0m     \u001b[39mreturn\u001b[39;00m umr_any(a, axis, dtype, out, keepdims, where\u001b[39m=\u001b[39mwhere)\n",
      "\u001b[1;31mKeyboardInterrupt\u001b[0m: "
     ]
    }
   ],
   "source": [
    "parameters = ODEParams(T=500, dt=0.01, u0=[0.,0.],f=f,theta=0.5, tol=1e-2)\n",
    "\n",
    "solver = ThetaMethod(eqtype='ODE',params=parameters) \n",
    "\n",
    "MS = MitchellSchaeffer(solver, k=2,alpha=.1,epsilon=.2,I=2,gamma=1,grid_size=(5,5))\n",
    "MS.generate_dataset(10,'testdata_def')"
   ]
  }
 ],
 "metadata": {
  "kernelspec": {
   "display_name": "base",
   "language": "python",
   "name": "python3"
  },
  "language_info": {
   "codemirror_mode": {
    "name": "ipython",
    "version": 3
   },
   "file_extension": ".py",
   "mimetype": "text/x-python",
   "name": "python",
   "nbconvert_exporter": "python",
   "pygments_lexer": "ipython3",
   "version": "3.10.9"
  }
 },
 "nbformat": 4,
 "nbformat_minor": 2
}
