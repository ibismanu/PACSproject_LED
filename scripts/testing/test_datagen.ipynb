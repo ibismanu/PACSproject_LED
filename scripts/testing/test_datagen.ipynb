{
 "cells": [
  {
   "cell_type": "code",
   "execution_count": 4,
   "metadata": {},
   "outputs": [],
   "source": [
    "import sys\n",
    "sys.path.append('../datagen/')\n",
    "from mitchellschaeffer import MitchellSchaeffer\n",
    "\n",
    "sys.path.append('../particle/')\n",
    "from generate_particle import ODEParams\n",
    "from thetamethod import ThetaMethod"
   ]
  },
  {
   "cell_type": "code",
   "execution_count": 5,
   "metadata": {},
   "outputs": [],
   "source": [
    "parameters = ODEParams(T=500, dt=0.1, u0=[0.,0.],theta=0.5, tol=1e-2)\n",
    "\n",
    "solver = ThetaMethod(eqtype='ODE',params=parameters) \n",
    "\n",
    "MS = MitchellSchaeffer(solver, k=2,alpha=.1,epsilon=.2,I=2,gamma=1,grid_size=(50,50))\n",
    "MS.generate_dataset(1000,'testdata_def')"
   ]
  }
 ],
 "metadata": {
  "kernelspec": {
   "display_name": "base",
   "language": "python",
   "name": "python3"
  },
  "language_info": {
   "codemirror_mode": {
    "name": "ipython",
    "version": 3
   },
   "file_extension": ".py",
   "mimetype": "text/x-python",
   "name": "python",
   "nbconvert_exporter": "python",
   "pygments_lexer": "ipython3",
   "version": "3.10.9"
  }
 },
 "nbformat": 4,
 "nbformat_minor": 2
}
