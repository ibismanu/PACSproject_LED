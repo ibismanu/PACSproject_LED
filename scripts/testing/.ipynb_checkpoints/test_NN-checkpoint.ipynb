{
 "cells": [
  {
   "cell_type": "code",
   "execution_count": 1,
   "id": "fadf43ab",
   "metadata": {},
   "outputs": [],
   "source": [
    "import numpy as np\n",
    "import matplotlib.pyplot as plt\n",
    "\n",
    "import sys\n",
    "sys.path.append('..')\n",
    "from NeuralNetwork.led import LED\n",
    "from utilities.params import NNParams\n",
    "\n",
    "import tensorflow as tf\n",
    "tfk = tf.keras\n",
    "tfkl = tfk.layers"
   ]
  },
  {
   "cell_type": "code",
   "execution_count": 2,
   "id": "851639f9",
   "metadata": {},
   "outputs": [
    {
     "name": "stdout",
     "output_type": "stream",
     "text": [
      "(1000, 1001, 20, 20, 2)\n"
     ]
    }
   ],
   "source": [
    "dataset = np.load('../../dataset/mitch_20.npz')\n",
    "data = dataset['my_data']\n",
    "\n",
    "print(np.shape(data))"
   ]
  },
  {
   "cell_type": "code",
   "execution_count": 3,
   "id": "28f3fed3",
   "metadata": {},
   "outputs": [],
   "source": [
    "latent_dim = 40\n",
    "seq_length = 10\n",
    "data_dir = \"../../dataset/\"\n",
    "saving_dir = \"../../models/\"\n",
    "\n",
    "Network = LED(latent_dim,data_dir,saving_dir) "
   ]
  },
  {
   "cell_type": "code",
   "execution_count": 4,
   "id": "0377f70b",
   "metadata": {
    "scrolled": true
   },
   "outputs": [
    {
     "name": "stdout",
     "output_type": "stream",
     "text": [
      "20\n",
      "10\n",
      "5\n",
      "Model: \"autoencoder\"\n",
      "_________________________________________________________________\n",
      " Layer (type)                Output Shape              Param #   \n",
      "=================================================================\n",
      " input_3 (InputLayer)        [(None, 20, 20, 2)]       0         \n",
      "                                                                 \n",
      " Encoder (Sequential)        (None, 40)                35611     \n",
      "|¯¯¯¯¯¯¯¯¯¯¯¯¯¯¯¯¯¯¯¯¯¯¯¯¯¯¯¯¯¯¯¯¯¯¯¯¯¯¯¯¯¯¯¯¯¯¯¯¯¯¯¯¯¯¯¯¯¯¯¯¯¯¯|\n",
      "| conv2d (Conv2D)           (None, 20, 20, 8)         152       |\n",
      "|                                                               |\n",
      "| max_pooling2d (MaxPooling2D  (None, 10, 10, 8)      0         |\n",
      "| )                                                             |\n",
      "|                                                               |\n",
      "| conv2d_1 (Conv2D)         (None, 10, 10, 16)        1168      |\n",
      "|                                                               |\n",
      "| max_pooling2d_1 (MaxPooling  (None, 5, 5, 16)       0         |\n",
      "| 2D)                                                           |\n",
      "|                                                               |\n",
      "| conv2d_2 (Conv2D)         (None, 5, 5, 32)          4640      |\n",
      "|                                                               |\n",
      "| max_pooling2d_2 (MaxPooling  (None, 2, 2, 32)       0         |\n",
      "| 2D)                                                           |\n",
      "|                                                               |\n",
      "| flatten (Flatten)         (None, 128)               0         |\n",
      "|                                                               |\n",
      "| dense (Dense)             (None, 72)                9288      |\n",
      "|                                                               |\n",
      "| dense_2 (Dense)           (None, 75)                5475      |\n",
      "|                                                               |\n",
      "| dropout (Dropout)         (None, 75)                0         |\n",
      "|                                                               |\n",
      "| dense_4 (Dense)           (None, 128)               9728      |\n",
      "|                                                               |\n",
      "| dropout_2 (Dropout)       (None, 128)               0         |\n",
      "|                                                               |\n",
      "| dense_6 (Dense)           (None, 40)                5160      |\n",
      "¯¯¯¯¯¯¯¯¯¯¯¯¯¯¯¯¯¯¯¯¯¯¯¯¯¯¯¯¯¯¯¯¯¯¯¯¯¯¯¯¯¯¯¯¯¯¯¯¯¯¯¯¯¯¯¯¯¯¯¯¯¯¯¯¯\n",
      " Decoder (Sequential)        (None, 20, 20, 2)         31413     \n",
      "|¯¯¯¯¯¯¯¯¯¯¯¯¯¯¯¯¯¯¯¯¯¯¯¯¯¯¯¯¯¯¯¯¯¯¯¯¯¯¯¯¯¯¯¯¯¯¯¯¯¯¯¯¯¯¯¯¯¯¯¯¯¯¯|\n",
      "| dense_5 (Dense)           (None, 128)               5248      |\n",
      "|                                                               |\n",
      "| dropout_3 (Dropout)       (None, 128)               0         |\n",
      "|                                                               |\n",
      "| dense_3 (Dense)           (None, 75)                9675      |\n",
      "|                                                               |\n",
      "| dropout_1 (Dropout)       (None, 75)                0         |\n",
      "|                                                               |\n",
      "| dense_1 (Dense)           (None, 72)                5472      |\n",
      "|                                                               |\n",
      "| reshape (Reshape)         (None, 2, 2, 18)          0         |\n",
      "|                                                               |\n",
      "| conv2d_transpose_3 (Conv2DT  (None, 5, 5, 32)       5216      |\n",
      "| ranspose)                                                     |\n",
      "|                                                               |\n",
      "| conv2d_transpose_2 (Conv2DT  (None, 10, 10, 16)     4624      |\n",
      "| ranspose)                                                     |\n",
      "|                                                               |\n",
      "| conv2d_transpose_1 (Conv2DT  (None, 20, 20, 8)      1160      |\n",
      "| ranspose)                                                     |\n",
      "|                                                               |\n",
      "| conv2d_transpose (Conv2DTra  (None, 20, 20, 2)      18        |\n",
      "| nspose)                                                       |\n",
      "¯¯¯¯¯¯¯¯¯¯¯¯¯¯¯¯¯¯¯¯¯¯¯¯¯¯¯¯¯¯¯¯¯¯¯¯¯¯¯¯¯¯¯¯¯¯¯¯¯¯¯¯¯¯¯¯¯¯¯¯¯¯¯¯¯\n",
      "=================================================================\n",
      "Total params: 67,024\n",
      "Trainable params: 67,024\n",
      "Non-trainable params: 0\n",
      "_________________________________________________________________\n"
     ]
    }
   ],
   "source": [
    "input_shape_ae = np.shape(data)[-3:]\n",
    "conv_ae = [(8,3),(16,3),(32,3)]\n",
    "#conv_ae = [(16,3),(32,3)]\n",
    "dense_ae = [75,128]\n",
    "#dense_ae = [8]\n",
    "Network.build_autoencoder(input_shape_ae, conv_ae, dense_ae)"
   ]
  },
  {
   "cell_type": "code",
   "execution_count": null,
   "id": "7ed0914b",
   "metadata": {
    "scrolled": true
   },
   "outputs": [],
   "source": [
    "callbacks =  [tfk.callbacks.EarlyStopping(\n",
    "                    monitor='val_loss', patience=10, restore_best_weights=True),\n",
    "                tfk.callbacks.ReduceLROnPlateau(\n",
    "                    monitor='val_loss', patience=5, factor=0.5, min_lr=1e-5),\n",
    "            ]\n",
    "aeparams = NNParams(batch_size=32, epochs=1, validation_split=0.2, callbacks=callbacks)\n",
    "#Network.train_autoencoder(\"mitch_20.npz\",aeparams,\"first_test\")"
   ]
  },
  {
   "cell_type": "code",
   "execution_count": null,
   "id": "43a2cd03",
   "metadata": {
    "scrolled": true
   },
   "outputs": [],
   "source": [
    "\n",
    "input_shape_rnn = (seq_length,latent_dim)\n",
    "dense_rnn = [64,32]\n",
    "lstm_rnn = [(32,False),(16,True),(32,False)]\n",
    "\n",
    "Network.build_RNN(input_shape_rnn, lstm_rnn, dense_rnn)"
   ]
  },
  {
   "cell_type": "code",
   "execution_count": null,
   "id": "05e56f46",
   "metadata": {},
   "outputs": [],
   "source": [
    "Network.train_RNN(\"mitch_20.npz\", autoencoder_name=\"../../models/first_test\", parameters=aeparams, saving_name=\"first_RNN_test\")"
   ]
  },
  {
   "cell_type": "code",
   "execution_count": null,
   "id": "332a69fa",
   "metadata": {},
   "outputs": [],
   "source": []
  }
 ],
 "metadata": {
  "kernelspec": {
   "display_name": "Python 3 (ipykernel)",
   "language": "python",
   "name": "python3"
  },
  "language_info": {
   "codemirror_mode": {
    "name": "ipython",
    "version": 3
   },
   "file_extension": ".py",
   "mimetype": "text/x-python",
   "name": "python",
   "nbconvert_exporter": "python",
   "pygments_lexer": "ipython3",
   "version": "3.9.13"
  }
 },
 "nbformat": 4,
 "nbformat_minor": 5
}
