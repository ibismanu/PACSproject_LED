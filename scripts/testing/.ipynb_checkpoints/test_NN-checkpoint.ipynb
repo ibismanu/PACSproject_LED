{
 "cells": [
  {
   "cell_type": "code",
   "execution_count": 1,
   "id": "fadf43ab",
   "metadata": {},
   "outputs": [],
   "source": [
    "import numpy as np\n",
    "import matplotlib.pyplot as plt\n",
    "\n",
    "import sys\n",
    "sys.path.append('..')\n",
    "from NeuralNetwork.led import LED\n",
    "from utilities.params import NNParams\n",
    "\n",
    "import tensorflow as tf\n",
    "tfk = tf.keras\n",
    "tfkl = tfk.layers"
   ]
  },
  {
   "cell_type": "code",
   "execution_count": null,
   "id": "efdb9b7e",
   "metadata": {},
   "outputs": [],
   "source": [
    "def f(vec):\n",
    "    return -vec\n",
    "\n",
    "arr = np.random.random((4, 4, 3, 3,2))\n",
    "for i in range(4):\n",
    "    for j in range(4):\n",
    "        val=i+4*j\n",
    "        arr[j,i,:,:,:] = val\n",
    "#print(arr)\n",
    "reshaped_arr = arr.reshape(4*4,3,3,2)\n",
    "#print(reshaped_arr)\n",
    "res = f(reshaped_arr)\n",
    "print(res)"
   ]
  },
  {
   "cell_type": "code",
   "execution_count": 2,
   "id": "332a69fa",
   "metadata": {},
   "outputs": [
    {
     "name": "stdout",
     "output_type": "stream",
     "text": [
      "(1000, 1001, 20, 20, 2)\n"
     ]
    }
   ],
   "source": [
    "latent_dim = 40\n",
    "data_dir_test = '../../data/dataset/merged_dataset.npz'\n",
    "autoencoder_dir = '../../models/autoencoder4/autoencoder4'\n",
    "        \n",
    "test = np.load(data_dir_test)['my_data']\n",
    "print(np.shape(test))"
   ]
  },
  {
   "cell_type": "code",
   "execution_count": 3,
   "id": "bc5b7aa0",
   "metadata": {},
   "outputs": [],
   "source": [
    "\n",
    "network = LED(latent_dim=latent_dim)\n",
    "X_predicted, prediction_loss = network.test_autoencoder(autoencoder_dir=autoencoder_dir,data_dir_test=data_dir_test,compressed_name_test='my_data')\n"
   ]
  },
  {
   "cell_type": "code",
   "execution_count": 4,
   "id": "c6bb4f36",
   "metadata": {},
   "outputs": [],
   "source": [
    "network.encode(data_dir=data_dir_test,autoencoder_dir=autoencoder_dir,compressed_name='my_data')"
   ]
  },
  {
   "cell_type": "code",
   "execution_count": 6,
   "id": "af8244b8",
   "metadata": {},
   "outputs": [
    {
     "name": "stdout",
     "output_type": "stream",
     "text": [
      "(1001000, 40)\n",
      "[ -4977.2017   34403.367   -15393.079    -1978.1436  -34024.67\n",
      "  33890.08     22180.809   -25890.752    75124.7     -15777.4375\n",
      " -24804.479     -175.59718  11992.035    34773.51     -9494.104\n",
      "   8718.354   -19793.568    17539.752    -2269.8438  -11530.074\n",
      " -19758.184   -96040.64      9281.843    -4741.6055   13810.656\n",
      "  -6330.653   -14486.514   -34441.754    -4212.163   -22016.598\n",
      "  27620.984    19925.932    -2978.0256    8538.468    -3577.1272\n",
      " -39160.44     44904.914   -10220.377     9527.016    -7818.5107 ]\n"
     ]
    }
   ],
   "source": [
    "enc = np.load('../../dataset/encoded_data.npy')\n",
    "print(np.shape(enc))\n",
    "print(enc[1])"
   ]
  },
  {
   "cell_type": "code",
   "execution_count": 7,
   "id": "9e6840aa",
   "metadata": {},
   "outputs": [
    {
     "ename": "NameError",
     "evalue": "name 'prediction_loss' is not defined",
     "output_type": "error",
     "traceback": [
      "\u001b[1;31m---------------------------------------------------------------------------\u001b[0m",
      "\u001b[1;31mNameError\u001b[0m                                 Traceback (most recent call last)",
      "\u001b[1;32m~\\AppData\\Local\\Temp\\ipykernel_14868\\653182016.py\u001b[0m in \u001b[0;36m<module>\u001b[1;34m\u001b[0m\n\u001b[1;32m----> 1\u001b[1;33m \u001b[0mprediction_loss\u001b[0m \u001b[1;33m=\u001b[0m \u001b[0mnp\u001b[0m\u001b[1;33m.\u001b[0m\u001b[0mreshape\u001b[0m\u001b[1;33m(\u001b[0m\u001b[0mprediction_loss\u001b[0m\u001b[1;33m,\u001b[0m\u001b[1;33m(\u001b[0m\u001b[1;36m1\u001b[0m\u001b[1;33m,\u001b[0m\u001b[1;36m1001\u001b[0m\u001b[1;33m,\u001b[0m\u001b[1;36m20\u001b[0m\u001b[1;33m,\u001b[0m\u001b[1;36m20\u001b[0m\u001b[1;33m)\u001b[0m\u001b[1;33m)\u001b[0m\u001b[1;33m\u001b[0m\u001b[1;33m\u001b[0m\u001b[0m\n\u001b[0m\u001b[0;32m      2\u001b[0m \u001b[0mprint\u001b[0m\u001b[1;33m(\u001b[0m\u001b[0mnp\u001b[0m\u001b[1;33m.\u001b[0m\u001b[0mmax\u001b[0m\u001b[1;33m(\u001b[0m\u001b[0mprediction_loss\u001b[0m\u001b[1;33m[\u001b[0m\u001b[1;36m0\u001b[0m\u001b[1;33m,\u001b[0m\u001b[1;33m:\u001b[0m\u001b[1;33m,\u001b[0m\u001b[1;33m:\u001b[0m\u001b[1;33m,\u001b[0m\u001b[1;33m:\u001b[0m\u001b[1;33m]\u001b[0m\u001b[1;33m)\u001b[0m\u001b[1;33m)\u001b[0m\u001b[1;33m\u001b[0m\u001b[1;33m\u001b[0m\u001b[0m\n",
      "\u001b[1;31mNameError\u001b[0m: name 'prediction_loss' is not defined"
     ]
    }
   ],
   "source": [
    "prediction_loss = np.reshape(prediction_loss,(1,1001,20,20))\n",
    "print(np.max(prediction_loss[0,:,:,:]))"
   ]
  },
  {
   "cell_type": "code",
   "execution_count": null,
   "id": "7f7d1dbe",
   "metadata": {},
   "outputs": [],
   "source": [
    "plt.plot(np.arange(0,np.shape(test)[1],1),prediction_loss[0,:,0,0])"
   ]
  },
  {
   "cell_type": "code",
   "execution_count": null,
   "id": "228752b6",
   "metadata": {},
   "outputs": [],
   "source": [
    "X_predicted = np.reshape(X_predicted,(1,1001,20,20,2))\n",
    "\n",
    "for i in range(10):\n",
    "    fig,(ax1,ax2) = plt.subplots(2,1,figsize=(8, 6))\n",
    "\n",
    "    ax1.plot(np.arange(0,np.shape(test)[1],1), X_predicted[0, :, i, i, 0])\n",
    "    ax1.set_title('Predicted')\n",
    "\n",
    "    ax2.plot(np.arange(0,np.shape(test)[1],1), test[0, :, i, i, 0])\n",
    "    ax2.set_title('Test')\n",
    "\n",
    "    plt.tight_layout()\n",
    "    plt.show()"
   ]
  },
  {
   "cell_type": "code",
   "execution_count": 8,
   "id": "851639f9",
   "metadata": {},
   "outputs": [
    {
     "ename": "FileNotFoundError",
     "evalue": "[Errno 2] No such file or directory: '../../dataset/mitch_20.npz'",
     "output_type": "error",
     "traceback": [
      "\u001b[1;31m---------------------------------------------------------------------------\u001b[0m",
      "\u001b[1;31mFileNotFoundError\u001b[0m                         Traceback (most recent call last)",
      "\u001b[1;32m~\\AppData\\Local\\Temp\\ipykernel_14868\\2289474782.py\u001b[0m in \u001b[0;36m<module>\u001b[1;34m\u001b[0m\n\u001b[1;32m----> 1\u001b[1;33m \u001b[0mdataset\u001b[0m \u001b[1;33m=\u001b[0m \u001b[0mnp\u001b[0m\u001b[1;33m.\u001b[0m\u001b[0mload\u001b[0m\u001b[1;33m(\u001b[0m\u001b[1;34m'../../dataset/mitch_20.npz'\u001b[0m\u001b[1;33m)\u001b[0m\u001b[1;33m\u001b[0m\u001b[1;33m\u001b[0m\u001b[0m\n\u001b[0m\u001b[0;32m      2\u001b[0m \u001b[0mdata\u001b[0m \u001b[1;33m=\u001b[0m \u001b[0mdataset\u001b[0m\u001b[1;33m[\u001b[0m\u001b[1;34m'my_data'\u001b[0m\u001b[1;33m]\u001b[0m\u001b[1;33m\u001b[0m\u001b[1;33m\u001b[0m\u001b[0m\n\u001b[0;32m      3\u001b[0m \u001b[1;33m\u001b[0m\u001b[0m\n\u001b[0;32m      4\u001b[0m \u001b[0mprint\u001b[0m\u001b[1;33m(\u001b[0m\u001b[0mnp\u001b[0m\u001b[1;33m.\u001b[0m\u001b[0mshape\u001b[0m\u001b[1;33m(\u001b[0m\u001b[0mdata\u001b[0m\u001b[1;33m)\u001b[0m\u001b[1;33m)\u001b[0m\u001b[1;33m\u001b[0m\u001b[1;33m\u001b[0m\u001b[0m\n",
      "\u001b[1;32m~\\anaconda3\\lib\\site-packages\\numpy\\lib\\npyio.py\u001b[0m in \u001b[0;36mload\u001b[1;34m(file, mmap_mode, allow_pickle, fix_imports, encoding)\u001b[0m\n\u001b[0;32m    415\u001b[0m             \u001b[0mown_fid\u001b[0m \u001b[1;33m=\u001b[0m \u001b[1;32mFalse\u001b[0m\u001b[1;33m\u001b[0m\u001b[1;33m\u001b[0m\u001b[0m\n\u001b[0;32m    416\u001b[0m         \u001b[1;32melse\u001b[0m\u001b[1;33m:\u001b[0m\u001b[1;33m\u001b[0m\u001b[1;33m\u001b[0m\u001b[0m\n\u001b[1;32m--> 417\u001b[1;33m             \u001b[0mfid\u001b[0m \u001b[1;33m=\u001b[0m \u001b[0mstack\u001b[0m\u001b[1;33m.\u001b[0m\u001b[0menter_context\u001b[0m\u001b[1;33m(\u001b[0m\u001b[0mopen\u001b[0m\u001b[1;33m(\u001b[0m\u001b[0mos_fspath\u001b[0m\u001b[1;33m(\u001b[0m\u001b[0mfile\u001b[0m\u001b[1;33m)\u001b[0m\u001b[1;33m,\u001b[0m \u001b[1;34m\"rb\"\u001b[0m\u001b[1;33m)\u001b[0m\u001b[1;33m)\u001b[0m\u001b[1;33m\u001b[0m\u001b[1;33m\u001b[0m\u001b[0m\n\u001b[0m\u001b[0;32m    418\u001b[0m             \u001b[0mown_fid\u001b[0m \u001b[1;33m=\u001b[0m \u001b[1;32mTrue\u001b[0m\u001b[1;33m\u001b[0m\u001b[1;33m\u001b[0m\u001b[0m\n\u001b[0;32m    419\u001b[0m \u001b[1;33m\u001b[0m\u001b[0m\n",
      "\u001b[1;31mFileNotFoundError\u001b[0m: [Errno 2] No such file or directory: '../../dataset/mitch_20.npz'"
     ]
    }
   ],
   "source": [
    "dataset = np.load('../../dataset/mitch_20.npz')\n",
    "data = dataset['my_data']\n",
    "\n",
    "print(np.shape(data))"
   ]
  },
  {
   "cell_type": "code",
   "execution_count": null,
   "id": "28f3fed3",
   "metadata": {},
   "outputs": [],
   "source": [
    "latent_dim = 40\n",
    "seq_length = 10\n",
    "data_dir = \"../../dataset/\"\n",
    "saving_dir = \"../../models/\"\n",
    "\n",
    "Network = LED(latent_dim,data_dir,saving_dir) "
   ]
  },
  {
   "cell_type": "code",
   "execution_count": null,
   "id": "0377f70b",
   "metadata": {
    "scrolled": true
   },
   "outputs": [],
   "source": [
    "input_shape_ae = np.shape(data)[-3:]\n",
    "conv_ae = [(8,3),(16,3),(32,3)]\n",
    "#conv_ae = [(16,3),(32,3)]\n",
    "dense_ae = [75,128]\n",
    "#dense_ae = [8]\n",
    "Network.build_autoencoder(input_shape_ae, conv_ae, dense_ae)"
   ]
  },
  {
   "cell_type": "code",
   "execution_count": null,
   "id": "7ed0914b",
   "metadata": {
    "scrolled": true
   },
   "outputs": [],
   "source": [
    "callbacks =  [tfk.callbacks.EarlyStopping(\n",
    "                    monitor='val_loss', patience=10, restore_best_weights=True),\n",
    "                tfk.callbacks.ReduceLROnPlateau(\n",
    "                    monitor='val_loss', patience=5, factor=0.5, min_lr=1e-5),\n",
    "            ]\n",
    "aeparams = NNParams(batch_size=32, epochs=1, validation_split=0.2, callbacks=callbacks)\n",
    "#Network.train_autoencoder(\"mitch_20.npz\",aeparams,\"first_test\")"
   ]
  },
  {
   "cell_type": "code",
   "execution_count": null,
   "id": "43a2cd03",
   "metadata": {
    "scrolled": true
   },
   "outputs": [],
   "source": [
    "\n",
    "input_shape_rnn = (seq_length,latent_dim)\n",
    "dense_rnn = [64,32]\n",
    "lstm_rnn = [(32,False),(16,True),(32,False)]\n",
    "\n",
    "Network.build_RNN(input_shape_rnn, lstm_rnn, dense_rnn)"
   ]
  },
  {
   "cell_type": "code",
   "execution_count": null,
   "id": "05e56f46",
   "metadata": {},
   "outputs": [],
   "source": [
    "Network.train_RNN(\"mitch_20.npz\", autoencoder_name=\"../../models/first_test\", parameters=aeparams, saving_name=\"first_RNN_test\")"
   ]
  }
 ],
 "metadata": {
  "kernelspec": {
   "display_name": "Python 3 (ipykernel)",
   "language": "python",
   "name": "python3"
  },
  "language_info": {
   "codemirror_mode": {
    "name": "ipython",
    "version": 3
   },
   "file_extension": ".py",
   "mimetype": "text/x-python",
   "name": "python",
   "nbconvert_exporter": "python",
   "pygments_lexer": "ipython3",
   "version": "3.9.13"
  }
 },
 "nbformat": 4,
 "nbformat_minor": 5
}
