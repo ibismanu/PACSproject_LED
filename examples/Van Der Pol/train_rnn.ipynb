{
 "cells": [
  {
   "cell_type": "code",
   "execution_count": 1,
   "metadata": {},
   "outputs": [],
   "source": [
    "import os\n",
    "import sys\n",
    "sys.path.append('../..')\n",
    "\n",
    "from scripts.NeuralNetwork.rnn import RNN"
   ]
  },
  {
   "cell_type": "code",
   "execution_count": 2,
   "metadata": {},
   "outputs": [],
   "source": [
    "# choose the name for your network\n",
    "# model_name = 'test_rnn_VDP'\n",
    "model_name = 'VDP_rnn_70'\n",
    "\n",
    "# Instanciate the object\n",
    "# Building and Training parameters are defaulted. To customize the network, please refers to the report\n",
    "rnn = RNN(window_size=70)"
   ]
  },
  {
   "cell_type": "code",
   "execution_count": 3,
   "metadata": {},
   "outputs": [],
   "source": [
    "# Load the data for the training of the RNN\n",
    "path_data = '../../dataset/VDP_train/VDP_train_0.npz'\n",
    "\n",
    "rnn.get_data(file_path=path_data,compressed_name='data')"
   ]
  },
  {
   "cell_type": "code",
   "execution_count": 4,
   "metadata": {},
   "outputs": [
    {
     "name": "stdout",
     "output_type": "stream",
     "text": [
      "Model: \"sequential\"\n",
      "_________________________________________________________________\n",
      " Layer (type)                Output Shape              Param #   \n",
      "=================================================================\n",
      " bidirectional (Bidirection  (None, 70, 128)           34304     \n",
      " al)                                                             \n",
      "                                                                 \n",
      " batch_normalization (Batch  (None, 70, 128)           512       \n",
      " Normalization)                                                  \n",
      "                                                                 \n",
      " bidirectional_1 (Bidirecti  (None, 70, 256)           263168    \n",
      " onal)                                                           \n",
      "                                                                 \n",
      " batch_normalization_1 (Bat  (None, 70, 256)           1024      \n",
      " chNormalization)                                                \n",
      "                                                                 \n",
      " bidirectional_2 (Bidirecti  (None, 512)               1050624   \n",
      " onal)                                                           \n",
      "                                                                 \n",
      " dense (Dense)               (None, 256)               131328    \n",
      "                                                                 \n",
      " batch_normalization_2 (Bat  (None, 256)               1024      \n",
      " chNormalization)                                                \n",
      "                                                                 \n",
      " dense_1 (Dense)             (None, 128)               32896     \n",
      "                                                                 \n",
      " batch_normalization_3 (Bat  (None, 128)               512       \n",
      " chNormalization)                                                \n",
      "                                                                 \n",
      " dense_2 (Dense)             (None, 64)                8256      \n",
      "                                                                 \n",
      " batch_normalization_4 (Bat  (None, 64)                256       \n",
      " chNormalization)                                                \n",
      "                                                                 \n",
      " dense_3 (Dense)             (None, 2)                 130       \n",
      "                                                                 \n",
      "=================================================================\n",
      "Total params: 1524034 (5.81 MB)\n",
      "Trainable params: 1522370 (5.81 MB)\n",
      "Non-trainable params: 1664 (6.50 KB)\n",
      "_________________________________________________________________\n"
     ]
    }
   ],
   "source": [
    "# Build the model. If summary=True it prints the summary. Default is False\n",
    "rnn.build_model(summary=True)"
   ]
  },
  {
   "cell_type": "code",
   "execution_count": 5,
   "metadata": {},
   "outputs": [
    {
     "name": "stdout",
     "output_type": "stream",
     "text": [
      "Epoch 1/200\n",
      "453/453 [==============================] - 271s 568ms/step - loss: 0.2750 - mse: 0.1328 - val_loss: 0.2121 - val_mse: 0.0631\n",
      "Epoch 2/200\n",
      "453/453 [==============================] - 268s 593ms/step - loss: 0.2329 - mse: 0.0907 - val_loss: 0.1289 - val_mse: 0.0243\n",
      "Epoch 3/200\n",
      "453/453 [==============================] - 257s 567ms/step - loss: 0.2327 - mse: 0.0883 - val_loss: 0.1263 - val_mse: 0.0242\n",
      "Epoch 4/200\n",
      "453/453 [==============================] - 269s 594ms/step - loss: 0.2335 - mse: 0.0895 - val_loss: 0.1225 - val_mse: 0.0247\n",
      "Epoch 5/200\n",
      "453/453 [==============================] - 257s 567ms/step - loss: 0.2364 - mse: 0.0923 - val_loss: 0.0862 - val_mse: 0.0098\n",
      "Epoch 6/200\n",
      "453/453 [==============================] - 269s 593ms/step - loss: 0.2286 - mse: 0.0867 - val_loss: 0.1232 - val_mse: 0.0238\n",
      "Epoch 7/200\n",
      "453/453 [==============================] - 275s 608ms/step - loss: 0.2256 - mse: 0.0827 - val_loss: 0.0608 - val_mse: 0.0061\n",
      "Epoch 8/200\n",
      "453/453 [==============================] - 275s 608ms/step - loss: 0.2310 - mse: 0.0866 - val_loss: 0.1149 - val_mse: 0.0309\n",
      "Epoch 9/200\n",
      "453/453 [==============================] - 274s 604ms/step - loss: 0.2261 - mse: 0.0865 - val_loss: 0.0926 - val_mse: 0.0131\n",
      "Epoch 10/200\n",
      "453/453 [==============================] - 273s 602ms/step - loss: 0.2275 - mse: 0.0860 - val_loss: 0.0931 - val_mse: 0.0121\n",
      "Epoch 11/200\n",
      "453/453 [==============================] - 274s 605ms/step - loss: 0.2194 - mse: 0.0778 - val_loss: 0.0637 - val_mse: 0.0061\n",
      "Epoch 12/200\n",
      "453/453 [==============================] - 281s 621ms/step - loss: 0.2232 - mse: 0.0805 - val_loss: 0.1087 - val_mse: 0.0199\n",
      "Epoch 13/200\n",
      "453/453 [==============================] - 271s 598ms/step - loss: 0.2240 - mse: 0.0824 - val_loss: 0.0794 - val_mse: 0.0090\n",
      "Epoch 14/200\n",
      "453/453 [==============================] - 275s 606ms/step - loss: 0.2249 - mse: 0.0842 - val_loss: 0.0854 - val_mse: 0.0112\n",
      "Epoch 15/200\n",
      "453/453 [==============================] - 276s 609ms/step - loss: 0.2154 - mse: 0.0775 - val_loss: 0.0709 - val_mse: 0.0078\n",
      "Epoch 16/200\n",
      "453/453 [==============================] - 275s 607ms/step - loss: 0.2237 - mse: 0.0828 - val_loss: 0.0611 - val_mse: 0.0064\n",
      "Epoch 17/200\n",
      "453/453 [==============================] - 266s 586ms/step - loss: 0.2179 - mse: 0.0782 - val_loss: 0.0503 - val_mse: 0.0044\n",
      "Epoch 18/200\n",
      "453/453 [==============================] - 272s 601ms/step - loss: 0.2146 - mse: 0.0786 - val_loss: 0.0746 - val_mse: 0.0098\n",
      "Epoch 19/200\n",
      "453/453 [==============================] - 267s 589ms/step - loss: 0.2236 - mse: 0.0825 - val_loss: 0.0774 - val_mse: 0.0095\n",
      "Epoch 20/200\n",
      "437/453 [===========================>..] - ETA: 8s - loss: 0.2273 - mse: 0.0856"
     ]
    }
   ],
   "source": [
    "# Train the model\n",
    "rnn.train_model()"
   ]
  },
  {
   "cell_type": "code",
   "execution_count": 6,
   "metadata": {},
   "outputs": [],
   "source": [
    "# Save the autoencoder (by default saved inside the folder models/model_name)\n",
    "\n",
    "rnn.save_model(model_name)"
   ]
  }
 ],
 "metadata": {
  "kernelspec": {
   "display_name": "base",
   "language": "python",
   "name": "python3"
  },
  "language_info": {
   "codemirror_mode": {
    "name": "ipython",
    "version": 3
   },
   "file_extension": ".py",
   "mimetype": "text/x-python",
   "name": "python",
   "nbconvert_exporter": "python",
   "pygments_lexer": "ipython3",
   "version": "3.10.9"
  }
 },
 "nbformat": 4,
 "nbformat_minor": 2
}
