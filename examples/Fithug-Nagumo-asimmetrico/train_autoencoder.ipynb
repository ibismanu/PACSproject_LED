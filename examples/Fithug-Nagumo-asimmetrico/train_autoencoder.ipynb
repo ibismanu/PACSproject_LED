{
 "cells": [
  {
   "cell_type": "code",
   "execution_count": null,
   "metadata": {},
   "outputs": [],
   "source": [
    "import sys\n",
    "sys.path.append('../..')\n",
    "import numpy as np\n",
    "import matplotlib.pyplot as plt\n",
    "\n",
    "from scripts.NeuralNetwork.autoencoder import Asymmetrical_Autoencoder"
   ]
  },
  {
   "cell_type": "code",
   "execution_count": null,
   "metadata": {},
   "outputs": [],
   "source": [
    "# choose the name for your network\n",
    "model_name = 'test_ae_asym'\n",
    "\n",
    "# Instanciate the object\n",
    "\n",
    "# Building and Training parameters are defaulted. To customize the network, please refers to the report\n",
    "ae = Asymmetrical_Autoencoder()"
   ]
  },
  {
   "cell_type": "code",
   "execution_count": null,
   "metadata": {},
   "outputs": [],
   "source": [
    "# # Load the data for the training of the Autoencoder \n",
    "# file_path = '../../dataset/VDP_test/VDP_test_0.npz'\n",
    "\n",
    "# ae.get_data(file_path,compressed_name='data')"
   ]
  },
  {
   "cell_type": "code",
   "execution_count": null,
   "metadata": {},
   "outputs": [],
   "source": [
    "# Load the data for the training of the Autoencoder \n",
    "file_path = '../../dataset/VDP_test/VDP_test_0.npz'\n",
    "\n",
    "ae.get_data(file_path,compressed_name='data')"
   ]
  },
  {
   "cell_type": "code",
   "execution_count": null,
   "metadata": {},
   "outputs": [],
   "source": [
    "# Load the data for the training of the Autoencoder \n",
    "file_path = '../../dataset/VDP_test/VDP_test_0.npz'\n",
    "\n",
    "ae.get_data(file_path,compressed_name='data')"
   ]
  }
 ],
 "metadata": {
  "language_info": {
   "name": "python"
  }
 },
 "nbformat": 4,
 "nbformat_minor": 2
}
