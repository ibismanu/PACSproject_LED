{
 "cells": [
  {
   "cell_type": "code",
   "execution_count": null,
   "metadata": {},
   "outputs": [],
   "source": [
    "import sys\n",
    "sys.path.append('../..')\n",
    "import numpy as np\n",
    "import matplotlib.pyplot as plt\n",
    "\n",
    "from scripts.NeuralNetwork.autoencoder import *"
   ]
  },
  {
   "cell_type": "code",
   "execution_count": null,
   "metadata": {},
   "outputs": [],
   "source": [
    "# name of the trained autoencoder to be uploaded\n",
    "model_name = 'FN_asymmetric'\n",
    "\n",
    "# Instanciate the object\n",
    "ae = Autoencoder_identity(model_name=model_name)"
   ]
  },
  {
   "cell_type": "code",
   "execution_count": null,
   "metadata": {},
   "outputs": [],
   "source": [
    "# Load the test dataset\n",
    "# test = np.load('../../dataset/VDP_test/VDP_test_0.npz')['data'][0]\n",
    "\n",
    "# test = test.reshape((251,1,1,2))\n",
    "\n",
    "# # Encode and decode the data\n",
    "# encoded = ae.encode(test)\n",
    "# decoded = ae.decode(encoded)\n"
   ]
  },
  {
   "cell_type": "code",
   "execution_count": null,
   "metadata": {},
   "outputs": [],
   "source": [
    "# plot\n",
    "\n",
    "plt.plot(np.arange(0,np.shape(test)[0],1),test[:,0,0,0])\n",
    "plt.plot(np.arange(0,np.shape(test)[0],1),decoded[:,0,0,0])\n",
    "plt.legend(['test set','reproduced'])"
   ]
  }
 ],
 "metadata": {
  "language_info": {
   "name": "python"
  }
 },
 "nbformat": 4,
 "nbformat_minor": 2
}
