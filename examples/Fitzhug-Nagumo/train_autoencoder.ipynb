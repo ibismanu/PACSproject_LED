{
 "cells": [
  {
   "cell_type": "code",
   "execution_count": 1,
   "metadata": {},
   "outputs": [],
   "source": [
    "import os\n",
    "import sys\n",
    "sys.path.append('../..')\n",
    "\n",
    "from scripts.neuralnetwork.autoencoder import Autoencoder"
   ]
  },
  {
   "cell_type": "code",
   "execution_count": 2,
   "metadata": {},
   "outputs": [],
   "source": [
    "# Choose the name for your network\n",
    "model_name = 'test_ae_FN'\n",
    "\n",
    "# Instantiate the object\n",
    "# Building and Training parameters are defaulted. To customize the network, please refer to the report\n",
    "ae = Autoencoder(latent_dim=10,epochs=1) # epochs=1 to show the functioning of the training"
   ]
  },
  {
   "cell_type": "code",
   "execution_count": 3,
   "metadata": {},
   "outputs": [
    {
     "data": {
      "application/vnd.jupyter.widget-view+json": {
       "model_id": "d3f9de296b3c4badb6845c9c5f860fe3",
       "version_major": 2,
       "version_minor": 0
      },
      "text/plain": [
       "  0%|          | 0/100 [00:00<?, ?it/s]"
      ]
     },
     "metadata": {},
     "output_type": "display_data"
    }
   ],
   "source": [
    "# Load the data for the training of the Autoencoder\n",
    "path_data = '../../dataset/FN_trainset/FN_trainset.npz'\n",
    "\n",
    "ae.get_data(file_path=path_data,compressed_name='test_data')"
   ]
  },
  {
   "cell_type": "code",
   "execution_count": 4,
   "metadata": {},
   "outputs": [
    {
     "name": "stdout",
     "output_type": "stream",
     "text": [
      "Model: \"Autoencoder\"\n",
      "_________________________________________________________________\n",
      " Layer (type)                Output Shape              Param #   \n",
      "=================================================================\n",
      " input_3 (InputLayer)        [(None, 20, 20, 2)]       0         \n",
      "                                                                 \n",
      " Encoder (Sequential)        (None, 10)                27986     \n",
      "|¯¯¯¯¯¯¯¯¯¯¯¯¯¯¯¯¯¯¯¯¯¯¯¯¯¯¯¯¯¯¯¯¯¯¯¯¯¯¯¯¯¯¯¯¯¯¯¯¯¯¯¯¯¯¯¯¯¯¯¯¯¯¯|\n",
      "| conv2d (Conv2D)            (None, 20, 20, 8)         152      |\n",
      "|                                                               |\n",
      "| max_pooling2d (MaxPooling  (None, 10, 10, 8)         0        |\n",
      "| 2D)                                                           |\n",
      "|                                                               |\n",
      "| conv2d_1 (Conv2D)          (None, 10, 10, 16)        1168     |\n",
      "|                                                               |\n",
      "| max_pooling2d_1 (MaxPooli  (None, 5, 5, 16)          0        |\n",
      "| ng2D)                                                         |\n",
      "|                                                               |\n",
      "| conv2d_2 (Conv2D)          (None, 5, 5, 32)          4640     |\n",
      "|                                                               |\n",
      "| max_pooling2d_2 (MaxPooli  (None, 2, 2, 32)          0        |\n",
      "| ng2D)                                                         |\n",
      "|                                                               |\n",
      "| flatten (Flatten)          (None, 128)               0        |\n",
      "|                                                               |\n",
      "| dense (Dense)              (None, 64)                8256     |\n",
      "|                                                               |\n",
      "| dense_2 (Dense)            (None, 64)                4160     |\n",
      "|                                                               |\n",
      "| dropout (Dropout)          (None, 64)                0        |\n",
      "|                                                               |\n",
      "| dense_4 (Dense)            (None, 128)               8320     |\n",
      "|                                                               |\n",
      "| dropout_2 (Dropout)        (None, 128)               0        |\n",
      "|                                                               |\n",
      "| dense_6 (Dense)            (None, 10)                1290     |\n",
      "¯¯¯¯¯¯¯¯¯¯¯¯¯¯¯¯¯¯¯¯¯¯¯¯¯¯¯¯¯¯¯¯¯¯¯¯¯¯¯¯¯¯¯¯¯¯¯¯¯¯¯¯¯¯¯¯¯¯¯¯¯¯¯¯¯\n",
      " Decoder (Sequential)        (None, 20, 20, 2)         24314     \n",
      "|¯¯¯¯¯¯¯¯¯¯¯¯¯¯¯¯¯¯¯¯¯¯¯¯¯¯¯¯¯¯¯¯¯¯¯¯¯¯¯¯¯¯¯¯¯¯¯¯¯¯¯¯¯¯¯¯¯¯¯¯¯¯¯|\n",
      "| dense_5 (Dense)            (None, 128)               1408     |\n",
      "|                                                               |\n",
      "| dropout_3 (Dropout)        (None, 128)               0        |\n",
      "|                                                               |\n",
      "| dense_3 (Dense)            (None, 64)                8256     |\n",
      "|                                                               |\n",
      "| dropout_1 (Dropout)        (None, 64)                0        |\n",
      "|                                                               |\n",
      "| dense_1 (Dense)            (None, 64)                4160     |\n",
      "|                                                               |\n",
      "| reshape (Reshape)          (None, 2, 2, 16)          0        |\n",
      "|                                                               |\n",
      "| conv2d_transpose_3 (Conv2  (None, 5, 5, 32)          4640     |\n",
      "| DTranspose)                                                   |\n",
      "|                                                               |\n",
      "| conv2d_transpose_2 (Conv2  (None, 10, 10, 16)        4624     |\n",
      "| DTranspose)                                                   |\n",
      "|                                                               |\n",
      "| conv2d_transpose_1 (Conv2  (None, 20, 20, 8)         1160     |\n",
      "| DTranspose)                                                   |\n",
      "|                                                               |\n",
      "| conv2d_transpose (Conv2DT  (None, 20, 20, 2)         66       |\n",
      "| ranspose)                                                     |\n",
      "¯¯¯¯¯¯¯¯¯¯¯¯¯¯¯¯¯¯¯¯¯¯¯¯¯¯¯¯¯¯¯¯¯¯¯¯¯¯¯¯¯¯¯¯¯¯¯¯¯¯¯¯¯¯¯¯¯¯¯¯¯¯¯¯¯\n",
      "=================================================================\n",
      "Total params: 52300 (204.30 KB)\n",
      "Trainable params: 52300 (204.30 KB)\n",
      "Non-trainable params: 0 (0.00 Byte)\n",
      "_________________________________________________________________\n"
     ]
    }
   ],
   "source": [
    "# Build the model. If summary=True it prints the summary. Default is False\n",
    "ae.build_model(summary=True)"
   ]
  },
  {
   "cell_type": "code",
   "execution_count": 5,
   "metadata": {},
   "outputs": [
    {
     "name": "stdout",
     "output_type": "stream",
     "text": [
      "2503/2503 [==============================] - 40s 15ms/step - loss: 0.0225 - mae: 0.0834 - val_loss: 0.0087 - val_mae: 0.0443\n"
     ]
    }
   ],
   "source": [
    "# Train the model\n",
    "ae.train_model() "
   ]
  },
  {
   "cell_type": "code",
   "execution_count": 6,
   "metadata": {},
   "outputs": [],
   "source": [
    "# Save the autoencoder (by default saved inside the folder models/model_name)\n",
    "\n",
    "ae.save_model(model_name)"
   ]
  }
 ],
 "metadata": {
  "kernelspec": {
   "display_name": "base",
   "language": "python",
   "name": "python3"
  },
  "language_info": {
   "codemirror_mode": {
    "name": "ipython",
    "version": 3
   },
   "file_extension": ".py",
   "mimetype": "text/x-python",
   "name": "python",
   "nbconvert_exporter": "python",
   "pygments_lexer": "ipython3",
   "version": "3.10.9"
  }
 },
 "nbformat": 4,
 "nbformat_minor": 2
}
