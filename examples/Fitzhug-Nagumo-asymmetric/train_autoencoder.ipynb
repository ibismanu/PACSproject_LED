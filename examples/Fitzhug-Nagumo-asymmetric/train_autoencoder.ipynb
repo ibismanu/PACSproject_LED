{
 "cells": [
  {
   "cell_type": "code",
   "execution_count": 1,
   "metadata": {},
   "outputs": [
    {
     "name": "stderr",
     "output_type": "stream",
     "text": [
      "/home/daan/.anaconda3/envs/pacs/lib/python3.10/site-packages/tqdm/auto.py:21: TqdmWarning: IProgress not found. Please update jupyter and ipywidgets. See https://ipywidgets.readthedocs.io/en/stable/user_install.html\n",
      "  from .autonotebook import tqdm as notebook_tqdm\n"
     ]
    }
   ],
   "source": [
    "import sys\n",
    "\n",
    "sys.path.append(\"../..\")\n",
    "import numpy as np\n",
    "import matplotlib.pyplot as plt\n",
    "\n",
    "from scripts.neuralnetwork.autoencoder import Autoencoder_asymmetric"
   ]
  },
  {
   "cell_type": "code",
   "execution_count": 2,
   "metadata": {},
   "outputs": [],
   "source": [
    "# choose the name for your network\n",
    "model_name = \"test_ae_asym\"\n",
    "\n",
    "# Instanciate the object\n",
    "\n",
    "# Building and Training parameters are defaulted. To customize the network, please refers to the report\n",
    "ae = Autoencoder_asymmetric(\n",
    "    latent_dim=10, epochs=1\n",
    ")  # epochs=1 to show the functioning of the training"
   ]
  },
  {
   "cell_type": "code",
   "execution_count": 3,
   "metadata": {},
   "outputs": [
    {
     "name": "stderr",
     "output_type": "stream",
     "text": [
      "100%|██████████| 1/1 [00:00<00:00, 1067.52it/s]\n"
     ]
    }
   ],
   "source": [
    "# Load the data for the training of the Autoencoder\n",
    "file_path = \"../../dataset/FN_testset/FN_testset_0.npz\"\n",
    "\n",
    "ae.get_data(file_path, compressed_name=\"data\")"
   ]
  },
  {
   "cell_type": "code",
   "execution_count": 4,
   "metadata": {},
   "outputs": [
    {
     "name": "stdout",
     "output_type": "stream",
     "text": [
      "Model: \"Autoencoder\"\n",
      "_________________________________________________________________\n",
      " Layer (type)                Output Shape              Param #   \n",
      "=================================================================\n",
      " input_3 (InputLayer)        [(None, 10, 10, 2)]       0         \n",
      "                                                                 \n",
      " Encoder (Sequential)        (None, 10)                21842     \n",
      "|¯¯¯¯¯¯¯¯¯¯¯¯¯¯¯¯¯¯¯¯¯¯¯¯¯¯¯¯¯¯¯¯¯¯¯¯¯¯¯¯¯¯¯¯¯¯¯¯¯¯¯¯¯¯¯¯¯¯¯¯¯¯¯|\n",
      "| conv2d (Conv2D)            (None, 10, 10, 8)         152      |\n",
      "|                                                               |\n",
      "| max_pooling2d (MaxPooling  (None, 5, 5, 8)           0        |\n",
      "| 2D)                                                           |\n",
      "|                                                               |\n",
      "| conv2d_1 (Conv2D)          (None, 5, 5, 16)          1168     |\n",
      "|                                                               |\n",
      "| max_pooling2d_1 (MaxPooli  (None, 2, 2, 16)          0        |\n",
      "| ng2D)                                                         |\n",
      "|                                                               |\n",
      "| conv2d_2 (Conv2D)          (None, 2, 2, 32)          4640     |\n",
      "|                                                               |\n",
      "| max_pooling2d_2 (MaxPooli  (None, 1, 1, 32)          0        |\n",
      "| ng2D)                                                         |\n",
      "|                                                               |\n",
      "| flatten (Flatten)          (None, 32)                0        |\n",
      "|                                                               |\n",
      "| dense (Dense)              (None, 64)                2112     |\n",
      "|                                                               |\n",
      "| dense_2 (Dense)            (None, 64)                4160     |\n",
      "|                                                               |\n",
      "| dropout (Dropout)          (None, 64)                0        |\n",
      "|                                                               |\n",
      "| dense_4 (Dense)            (None, 128)               8320     |\n",
      "|                                                               |\n",
      "| dropout_2 (Dropout)        (None, 128)               0        |\n",
      "|                                                               |\n",
      "| dense_6 (Dense)            (None, 10)                1290     |\n",
      "¯¯¯¯¯¯¯¯¯¯¯¯¯¯¯¯¯¯¯¯¯¯¯¯¯¯¯¯¯¯¯¯¯¯¯¯¯¯¯¯¯¯¯¯¯¯¯¯¯¯¯¯¯¯¯¯¯¯¯¯¯¯¯¯¯\n",
      " Decoder (Sequential)        (None, 20, 20, 2)         38108     \n",
      "|¯¯¯¯¯¯¯¯¯¯¯¯¯¯¯¯¯¯¯¯¯¯¯¯¯¯¯¯¯¯¯¯¯¯¯¯¯¯¯¯¯¯¯¯¯¯¯¯¯¯¯¯¯¯¯¯¯¯¯¯¯¯¯|\n",
      "| dense_5 (Dense)            (None, 128)               1408     |\n",
      "|                                                               |\n",
      "| dropout_3 (Dropout)        (None, 128)               0        |\n",
      "|                                                               |\n",
      "| dense_3 (Dense)            (None, 64)                8256     |\n",
      "|                                                               |\n",
      "| dropout_1 (Dropout)        (None, 64)                0        |\n",
      "|                                                               |\n",
      "| dense_1 (Dense)            (None, 64)                4160     |\n",
      "|                                                               |\n",
      "| reshape (Reshape)          (None, 1, 1, 64)          0        |\n",
      "|                                                               |\n",
      "| conv2d_transpose_4 (Conv2  (None, 2, 2, 32)          18464    |\n",
      "| DTranspose)                                                   |\n",
      "|                                                               |\n",
      "| conv2d_transpose_3 (Conv2  (None, 5, 5, 16)          4624     |\n",
      "| DTranspose)                                                   |\n",
      "|                                                               |\n",
      "| conv2d_transpose_2 (Conv2  (None, 10, 10, 8)         1160     |\n",
      "| DTranspose)                                                   |\n",
      "|                                                               |\n",
      "| conv2d_transpose_1 (Conv2  (None, 20, 20, 2)         18       |\n",
      "| DTranspose)                                                   |\n",
      "|                                                               |\n",
      "| conv2d_transpose (Conv2DT  (None, 20, 20, 2)         18       |\n",
      "| ranspose)                                                     |\n",
      "¯¯¯¯¯¯¯¯¯¯¯¯¯¯¯¯¯¯¯¯¯¯¯¯¯¯¯¯¯¯¯¯¯¯¯¯¯¯¯¯¯¯¯¯¯¯¯¯¯¯¯¯¯¯¯¯¯¯¯¯¯¯¯¯¯\n",
      "=================================================================\n",
      "Total params: 59950 (234.18 KB)\n",
      "Trainable params: 59950 (234.18 KB)\n",
      "Non-trainable params: 0 (0.00 Byte)\n",
      "_________________________________________________________________\n"
     ]
    }
   ],
   "source": [
    "# Build the model. If summary=True it prints the summary. Default is False\n",
    "ae.build_model(summary=True)"
   ]
  },
  {
   "cell_type": "code",
   "execution_count": 5,
   "metadata": {},
   "outputs": [
    {
     "name": "stdout",
     "output_type": "stream",
     "text": [
      "25/25 [==============================] - 3s 24ms/step - loss: 0.2566 - mae: 0.4095 - val_loss: 0.0668 - val_mae: 0.2445\n"
     ]
    }
   ],
   "source": [
    "# Train the model\n",
    "ae.train_model()"
   ]
  },
  {
   "cell_type": "code",
   "execution_count": 6,
   "metadata": {},
   "outputs": [],
   "source": [
    "# Save the autoencoder (by default saved inside the folder models/model_name)\n",
    "\n",
    "ae.save_model(model_name)"
   ]
  }
 ],
 "metadata": {
  "kernelspec": {
   "display_name": "base",
   "language": "python",
   "name": "python3"
  },
  "language_info": {
   "codemirror_mode": {
    "name": "ipython",
    "version": 3
   },
   "file_extension": ".py",
   "mimetype": "text/x-python",
   "name": "python",
   "nbconvert_exporter": "python",
   "pygments_lexer": "ipython3",
   "version": "3.10.13"
  }
 },
 "nbformat": 4,
 "nbformat_minor": 2
}
