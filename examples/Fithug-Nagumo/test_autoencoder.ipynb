{
 "cells": [
  {
   "cell_type": "code",
   "execution_count": 4,
   "metadata": {},
   "outputs": [],
   "source": [
    "import sys\n",
    "sys.path.append('../..')\n",
    "import numpy as np\n",
    "import matplotlib.pyplot as plt\n",
    "\n",
    "from scripts.NeuralNetwork.autoencoder import Autoencoder"
   ]
  },
  {
   "cell_type": "code",
   "execution_count": 5,
   "metadata": {},
   "outputs": [],
   "source": [
    "# name of the trained autoencoder to be uploaded\n",
    "model_name = 'autoencoder1'\n",
    "\n",
    "# Instanciate the object\n",
    "# Building and Training parameters are defaulted. To customize the network, please refers to the report\n",
    "ae = Autoencoder(model_name=model_name)"
   ]
  },
  {
   "cell_type": "code",
   "execution_count": 6,
   "metadata": {},
   "outputs": [],
   "source": [
    "# Load the test dataset\n",
    "test = np.load('../../dataset/FN_test/FN_test_0.npz')['data'][0]\n",
    "\n",
    "# Encode and decode the data\n",
    "encoded = ae.encode(test)\n",
    "decoded = ae.decode(encoded)"
   ]
  },
  {
   "cell_type": "code",
   "execution_count": null,
   "metadata": {},
   "outputs": [],
   "source": [
    "# Print the test dataset vs decoded dataset\n",
    "\n",
    "for i in [100*i for i in range(10)]:\n",
    "    if i !=0:\n",
    "        fig, ax = plt.subplots(2,1)\n",
    "        ax[0].imshow(test[i,:,:,0])\n",
    "        ax[0].set_title(\"Test data\")\n",
    "\n",
    "        im = ax[1].imshow(decoded[i,:,:,0])\n",
    "        ax[1].set_title(\"Decoded data\")\n",
    "\n",
    "        cbar = fig.colorbar(im,ax=ax.ravel().tolist())\n",
    "        cbar.set_ticks(np.arange(0,1,0.5))\n",
    "        fig.suptitle(f\"Grid at time {i}\")\n",
    "        plt.show()"
   ]
  }
 ],
 "metadata": {
  "kernelspec": {
   "display_name": "base",
   "language": "python",
   "name": "python3"
  },
  "language_info": {
   "codemirror_mode": {
    "name": "ipython",
    "version": 3
   },
   "file_extension": ".py",
   "mimetype": "text/x-python",
   "name": "python",
   "nbconvert_exporter": "python",
   "pygments_lexer": "ipython3",
   "version": "3.10.9"
  }
 },
 "nbformat": 4,
 "nbformat_minor": 2
}
